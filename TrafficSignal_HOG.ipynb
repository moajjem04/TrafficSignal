{
  "nbformat": 4,
  "nbformat_minor": 0,
  "metadata": {
    "colab": {
      "name": "TrafficSignal_HOG",
      "provenance": [],
      "authorship_tag": "ABX9TyO+GwoXve+6bc7MnDOa2A9u",
      "include_colab_link": true
    },
    "kernelspec": {
      "name": "python3",
      "display_name": "Python 3"
    }
  },
  "cells": [
    {
      "cell_type": "markdown",
      "metadata": {
        "id": "view-in-github",
        "colab_type": "text"
      },
      "source": [
        "<a href=\"https://colab.research.google.com/github/moajjem04/TrafficSignal/blob/main/TrafficSignal_HOG.ipynb\" target=\"_parent\"><img src=\"https://colab.research.google.com/assets/colab-badge.svg\" alt=\"Open In Colab\"/></a>"
      ]
    },
    {
      "cell_type": "markdown",
      "metadata": {
        "id": "ooute4Tr0v5A"
      },
      "source": [
        "# Setting up Google Drive"
      ]
    },
    {
      "cell_type": "code",
      "metadata": {
        "colab": {
          "base_uri": "https://localhost:8080/"
        },
        "id": "oUAfIyqBw7_V",
        "outputId": "e0ef8bcb-1737-4e40-fb1e-22e490d5bbab"
      },
      "source": [
        "# Mount Google Drive\r\n",
        "from google.colab import drive # import drive from google colab\r\n",
        "\r\n",
        "ROOT = \"/content/drive\"     # default location for the drive\r\n",
        "print(ROOT)                 # print content of ROOT (Optional)\r\n",
        "\r\n",
        "drive.mount(ROOT)           # we mount the google drive at /content/drive"
      ],
      "execution_count": 10,
      "outputs": [
        {
          "output_type": "stream",
          "text": [
            "/content/drive\n",
            "Drive already mounted at /content/drive; to attempt to forcibly remount, call drive.mount(\"/content/drive\", force_remount=True).\n"
          ],
          "name": "stdout"
        }
      ]
    },
    {
      "cell_type": "markdown",
      "metadata": {
        "id": "mDRHK5WV00tF"
      },
      "source": [
        "# Setting up Github"
      ]
    },
    {
      "cell_type": "code",
      "metadata": {
        "colab": {
          "base_uri": "https://localhost:8080/"
        },
        "id": "bO1Tfg02tLUX",
        "outputId": "e8d3cb1c-c531-40d0-fe83-aeb3c14227e3"
      },
      "source": [
        "# Clone github repository setup\r\n",
        "# import join used to join ROOT path and MY_GOOGLE_DRIVE_PATH\r\n",
        "from os.path import join  \r\n",
        "\r\n",
        "# path to your project on Google Drive\r\n",
        "MY_GOOGLE_DRIVE_PATH = 'MyDrive/TrafficSignal_1' \r\n",
        "# replace with your Github username \r\n",
        "GIT_USERNAME = \"moajjem04\" \r\n",
        "# definitely replace with your\r\n",
        "GIT_TOKEN = \"2c3f8ddbda3d5f1e35b4b69744834379ebd38e06\"  \r\n",
        "# Replace with your github repository in this case we want \r\n",
        "# to clone deep-learning-v2-pytorch repository\r\n",
        "GIT_REPOSITORY = \"TrafficSignal\" \r\n",
        "\r\n",
        "PROJECT_PATH = join(ROOT, MY_GOOGLE_DRIVE_PATH)\r\n",
        "\r\n",
        "# It's good to print out the value if you are not sure \r\n",
        "print(\"PROJECT_PATH: \", PROJECT_PATH)   \r\n",
        "\r\n",
        "# In case we haven't created the folder already; we will create a folder in the project path \r\n",
        "!mkdir \"{PROJECT_PATH}\"    \r\n",
        "\r\n",
        "#GIT_PATH = \"https://{GIT_TOKEN}@github.com/{GIT_USERNAME}/{GIT_REPOSITORY}.git\" this return 400 Bad Request for me\r\n",
        "GIT_PATH = \"https://\" + GIT_TOKEN + \"@github.com/\" + GIT_USERNAME + \"/\" + GIT_REPOSITORY + \".git\"\r\n",
        "print(\"GIT_PATH: \", GIT_PATH)"
      ],
      "execution_count": 17,
      "outputs": [
        {
          "output_type": "stream",
          "text": [
            "PROJECT_PATH:  /content/drive/MyDrive/TrafficSignal_1\n",
            "GIT_PATH:  https://2c3f8ddbda3d5f1e35b4b69744834379ebd38e06@github.com/moajjem04/TrafficSignal.git\n"
          ],
          "name": "stdout"
        }
      ]
    },
    {
      "cell_type": "code",
      "metadata": {
        "colab": {
          "base_uri": "https://localhost:8080/"
        },
        "id": "qBEVrJs3vJy5",
        "outputId": "07c35277-9858-4ebd-fad4-1002dcf00b03"
      },
      "source": [
        "%cd \"{PROJECT_PATH}\"    \r\n",
        "# Change directory to the location defined in project_path\r\n",
        "!git clone \"{GIT_PATH}\" # clone the github repository"
      ],
      "execution_count": 21,
      "outputs": [
        {
          "output_type": "stream",
          "text": [
            "/content/drive/MyDrive/TrafficSignal_1\n",
            "Cloning into 'TrafficSignal'...\n",
            "remote: Enumerating objects: 5031, done.\u001b[K\n",
            "remote: Counting objects: 100% (5031/5031), done.\u001b[K\n",
            "remote: Compressing objects: 100% (5000/5000), done.\u001b[K\n",
            "remote: Total 5031 (delta 30), reused 5024 (delta 29), pack-reused 0\u001b[K\n",
            "Receiving objects: 100% (5031/5031), 30.12 MiB | 9.16 MiB/s, done.\n",
            "Resolving deltas: 100% (30/30), done.\n",
            "Checking out files: 100% (5002/5002), done.\n"
          ],
          "name": "stdout"
        }
      ]
    },
    {
      "cell_type": "code",
      "metadata": {
        "id": "wUfL-vF4xj2S"
      },
      "source": [
        "# !git clone \"{GIT_PATH}\" ./temp      # clone github repository to temp folder\r\n",
        "# !mv ./temp/* \"{PROJECT_PATH}\"       # move all files/folders in temp folder to folder defined in project path\r\n",
        "# !rm -rf ./temp                      # remove all the files/folders in temp folder\r\n",
        "# !rsync -aP --exclude=data/ \"{PROJECT_PATH}\"/*  ./   # use remote sync to copy from google drive to local runtime google colab\r\n",
        "#                                                     # but exclude data folder\r\n",
        "#                                                     # https://www.computerhope.com/unix/rsync.htm\r\n"
      ],
      "execution_count": null,
      "outputs": []
    },
    {
      "cell_type": "markdown",
      "metadata": {
        "id": "BAQjzibv1GNd"
      },
      "source": [
        "### Changing Directory to the Github Folder"
      ]
    },
    {
      "cell_type": "code",
      "metadata": {
        "colab": {
          "base_uri": "https://localhost:8080/",
          "height": 35
        },
        "id": "DjNFOSmK0_7T",
        "outputId": "82153be3-557b-4b10-ec87-6b4c3d1667b4"
      },
      "source": [
        "%pwd"
      ],
      "execution_count": 22,
      "outputs": [
        {
          "output_type": "execute_result",
          "data": {
            "application/vnd.google.colaboratory.intrinsic+json": {
              "type": "string"
            },
            "text/plain": [
              "'/content/drive/My Drive/TrafficSignal_1'"
            ]
          },
          "metadata": {
            "tags": []
          },
          "execution_count": 22
        }
      ]
    },
    {
      "cell_type": "code",
      "metadata": {
        "colab": {
          "base_uri": "https://localhost:8080/"
        },
        "id": "2dBU5Sv91L78",
        "outputId": "012877db-54c6-418e-dfce-315d283caef3"
      },
      "source": [
        "%cd TrafficSignal"
      ],
      "execution_count": 23,
      "outputs": [
        {
          "output_type": "stream",
          "text": [
            "/content/drive/My Drive/TrafficSignal_1/TrafficSignal\n"
          ],
          "name": "stdout"
        }
      ]
    },
    {
      "cell_type": "code",
      "metadata": {
        "colab": {
          "base_uri": "https://localhost:8080/",
          "height": 35
        },
        "id": "DpCSaxKu1O0D",
        "outputId": "196ddae4-9cd3-48c8-a409-520bb184a4a0"
      },
      "source": [
        "%pwd"
      ],
      "execution_count": 24,
      "outputs": [
        {
          "output_type": "execute_result",
          "data": {
            "application/vnd.google.colaboratory.intrinsic+json": {
              "type": "string"
            },
            "text/plain": [
              "'/content/drive/My Drive/TrafficSignal_1/TrafficSignal'"
            ]
          },
          "metadata": {
            "tags": []
          },
          "execution_count": 24
        }
      ]
    },
    {
      "cell_type": "markdown",
      "metadata": {
        "id": "n0TqC2ZI2E4b"
      },
      "source": [
        "### Visualizing Images"
      ]
    },
    {
      "cell_type": "code",
      "metadata": {
        "id": "ONjj0ZZj1Qb0"
      },
      "source": [
        "%matplotlib inline\r\n",
        "import matplotlib.pyplot as plt\r\n",
        "import seaborn as sns; sns.set()\r\n",
        "import numpy as np"
      ],
      "execution_count": 25,
      "outputs": []
    },
    {
      "cell_type": "code",
      "metadata": {
        "id": "BuVuqQnp2Quc"
      },
      "source": [
        "from skimage import data, color, feature, transform\r\n",
        "import skimage.data\r\n",
        "\r\n",
        "image = color.rgb2gray(data.chelsea())\r\n",
        "# hog_vec, hog_vis = feature.hog(image,pixels_per_cell=(16, 16),\r\n",
        "#                    cells_per_block=(1, 1), visualize=True)\r\n",
        "hog_vec, hog_vis = feature.hog(image,visualize=True)\r\n",
        "\r\n",
        "fig, ax = plt.subplots(1, 2, figsize=(12, 6),\r\n",
        "                       subplot_kw=dict(xticks=[], yticks=[]))\r\n",
        "ax[0].imshow(image, cmap='gray')\r\n",
        "ax[0].set_title('input image')\r\n",
        "\r\n",
        "ax[1].imshow(hog_vis)\r\n",
        "ax[1].set_title('visualization of HOG features');"
      ],
      "execution_count": null,
      "outputs": []
    },
    {
      "cell_type": "code",
      "metadata": {
        "colab": {
          "base_uri": "https://localhost:8080/"
        },
        "id": "umnqRubvCPWx",
        "outputId": "32efa1be-0935-44cf-d2df-b6396bb403ba"
      },
      "source": [
        "hog_vec.size"
      ],
      "execution_count": 74,
      "outputs": [
        {
          "output_type": "execute_result",
          "data": {
            "text/plain": [
              "153090"
            ]
          },
          "metadata": {
            "tags": []
          },
          "execution_count": 74
        }
      ]
    },
    {
      "cell_type": "code",
      "metadata": {
        "colab": {
          "base_uri": "https://localhost:8080/",
          "height": 35
        },
        "id": "hv8DSa426CkV",
        "outputId": "bbed9249-a12c-4c67-c194-d2322d5ebae3"
      },
      "source": [
        "%pwd"
      ],
      "execution_count": 45,
      "outputs": [
        {
          "output_type": "execute_result",
          "data": {
            "application/vnd.google.colaboratory.intrinsic+json": {
              "type": "string"
            },
            "text/plain": [
              "'/content/drive/My Drive/TrafficSignal_1/TrafficSignal'"
            ]
          },
          "metadata": {
            "tags": []
          },
          "execution_count": 45
        }
      ]
    },
    {
      "cell_type": "code",
      "metadata": {
        "id": "FNN5Iv5p2Xek"
      },
      "source": [
        "import cv2 as cv\r\n",
        "from skimage import io\r\n",
        "image = cv.imread('training/00001/00000_00000.ppm')\r\n",
        "\r\n",
        "fig, ax = plt.subplots()\r\n",
        "ax.imshow(image)\r\n",
        "ax.axis('off')  # clear x-axis and y-axis\r\n",
        "plt.show()\r\n"
      ],
      "execution_count": null,
      "outputs": []
    },
    {
      "cell_type": "markdown",
      "metadata": {
        "id": "THD9KeroGJcL"
      },
      "source": [
        "# Feature Extraction from Training Images"
      ]
    },
    {
      "cell_type": "code",
      "metadata": {
        "id": "o9Hp386q80bH"
      },
      "source": [
        "count =0;\r\n",
        "train_image_num = 400;\r\n",
        "train_class =10;\r\n",
        "trainingFeatures = np.zeros(shape=(train_image_num*train_class,324))\r\n",
        "trainingLabels = np.zeros(shape=(train_image_num*train_class,1))\r\n",
        "for nNumFolder in range(1,11):\r\n",
        "  print(nNumFolder)\r\n",
        "  sFolder = \"{0:0=5d}\".format(nNumFolder) # Format nNumFolder to folder names\r\n",
        "  print(sFolder)\r\n",
        "  path = 'training/' + sFolder + '/*.ppm' \r\n",
        "  for file in glob.glob(path):\r\n",
        "   #print(file)\r\n",
        "   Img= cv.imread(file)\r\n",
        "   Img = transform.resize(Img,(32,32))\r\n",
        "   trainingFeatures[count,:] = feature.hog(Img,pixels_per_cell=(8, 8),\r\n",
        "                                           cells_per_block=(3, 3))\r\n",
        "   trainingLabels[count,:] = nNumFolder\r\n",
        "   count = count+1;\r\n",
        "\r\n",
        "print(trainingLabels.shape)\r\n",
        "print(trainingFeatures.shape)\r\n"
      ],
      "execution_count": null,
      "outputs": []
    },
    {
      "cell_type": "markdown",
      "metadata": {
        "id": "kXUN4RDnGj9S"
      },
      "source": [
        "# Feature Extraction from Testing Images"
      ]
    },
    {
      "cell_type": "code",
      "metadata": {
        "id": "E-slFdp9GPAL"
      },
      "source": [
        "count =0;\r\n",
        "test_image_num = 100;\r\n",
        "test_class =10;\r\n",
        "testingFeatures = np.zeros(shape=(test_image_num*test_class,324))\r\n",
        "testingLabels = np.zeros(shape=(test_image_num*test_class,1))\r\n",
        "for nNumFolder in range(1,11):\r\n",
        "  print(nNumFolder)\r\n",
        "  sFolder = \"{0:0=5d}\".format(nNumFolder) # Format nNumFolder to folder names\r\n",
        "  print(sFolder)\r\n",
        "  path = 'testing/' + sFolder + '/*.ppm' \r\n",
        "  for file in glob.glob(path):\r\n",
        "   #print(file)\r\n",
        "   Img= cv.imread(file)\r\n",
        "   Img = transform.resize(Img,(32,32))\r\n",
        "   testingFeatures[count,:] = feature.hog(Img,pixels_per_cell=(8, 8),\r\n",
        "                                           cells_per_block=(3, 3))\r\n",
        "   testingLabels[count,:] = nNumFolder\r\n",
        "   count = count+1;\r\n",
        "\r\n",
        "print(testingLabels.shape)\r\n",
        "print(testingFeatures.shape)\r\n"
      ],
      "execution_count": null,
      "outputs": []
    },
    {
      "cell_type": "code",
      "metadata": {
        "id": "ZgT8lcNsHxAr"
      },
      "source": [
        "from sklearn.svm import SVC, LinearSVC\r\n",
        "from sklearn.metrics import confusion_matrix,classification_report\r\n",
        "from sklearn.model_selection import cross_val_score, GridSearchCV"
      ],
      "execution_count": 90,
      "outputs": []
    },
    {
      "cell_type": "code",
      "metadata": {
        "colab": {
          "base_uri": "https://localhost:8080/"
        },
        "id": "h-lI05YLItrk",
        "outputId": "692abfef-9226-4b41-87e6-db21d8be37c0"
      },
      "source": [
        "lin_clf = LinearSVC()\r\n",
        "lin_clf.fit(trainingFeatures,trainingLabels)"
      ],
      "execution_count": 95,
      "outputs": [
        {
          "output_type": "stream",
          "text": [
            "/usr/local/lib/python3.6/dist-packages/sklearn/utils/validation.py:760: DataConversionWarning: A column-vector y was passed when a 1d array was expected. Please change the shape of y to (n_samples, ), for example using ravel().\n",
            "  y = column_or_1d(y, warn=True)\n"
          ],
          "name": "stderr"
        },
        {
          "output_type": "execute_result",
          "data": {
            "text/plain": [
              "LinearSVC(C=1.0, class_weight=None, dual=True, fit_intercept=True,\n",
              "          intercept_scaling=1, loss='squared_hinge', max_iter=1000,\n",
              "          multi_class='ovr', penalty='l2', random_state=None, tol=0.0001,\n",
              "          verbose=0)"
            ]
          },
          "metadata": {
            "tags": []
          },
          "execution_count": 95
        }
      ]
    },
    {
      "cell_type": "code",
      "metadata": {
        "id": "uw1AP6gcI9F7"
      },
      "source": [
        "Y_pred = lin_clf.predict(testingFeatures)"
      ],
      "execution_count": 106,
      "outputs": []
    },
    {
      "cell_type": "code",
      "metadata": {
        "colab": {
          "base_uri": "https://localhost:8080/"
        },
        "id": "bFixbxjvJPSy",
        "outputId": "27ab762b-e111-4af0-e770-d4889750fff8"
      },
      "source": [
        "# Making the Confusion Matrix\r\n",
        "#print(pd.crosstab(Y_test_label, Y_pred_label, rownames=['Actual Activity'], colnames=['Predicted Activity']))\r\n",
        "print(confusion_matrix(testingLabels,Y_pred))\r\n",
        "print(\"\\n\")\r\n",
        "print(classification_report(testingLabels,Y_pred))\r\n",
        "\r\n",
        "print(\"Training set score for SVM: %f\" % lin_clf.score(trainingFeatures , trainingLabels))\r\n",
        "print(\"Testing  set score for SVM: %f\" % lin_clf.score(testingFeatures  , testingLabels ))\r\n",
        "\r\n",
        "lin_clf.score"
      ],
      "execution_count": 107,
      "outputs": [
        {
          "output_type": "stream",
          "text": [
            "[[ 63  20  10   1   1   4   0   0   1   0]\n",
            " [  6  77   8   4   1   1   0   0   1   2]\n",
            " [ 41   5  52   2   0   0   0   0   0   0]\n",
            " [  0   0   3  97   0   0   0   0   0   0]\n",
            " [  0   0   0   0 100   0   0   0   0   0]\n",
            " [  0   0   0   0   0 100   0   0   0   0]\n",
            " [  0   0   0   0   0   0 100   0   0   0]\n",
            " [  0   0   0   0   0   0   0 100   0   0]\n",
            " [  0   0   0   0   0   0   0   0 100   0]\n",
            " [  0   0   0   0   0   0   0   0   0 100]]\n",
            "\n",
            "\n",
            "              precision    recall  f1-score   support\n",
            "\n",
            "         1.0       0.57      0.63      0.60       100\n",
            "         2.0       0.75      0.77      0.76       100\n",
            "         3.0       0.71      0.52      0.60       100\n",
            "         4.0       0.93      0.97      0.95       100\n",
            "         5.0       0.98      1.00      0.99       100\n",
            "         6.0       0.95      1.00      0.98       100\n",
            "         7.0       1.00      1.00      1.00       100\n",
            "         8.0       1.00      1.00      1.00       100\n",
            "         9.0       0.98      1.00      0.99       100\n",
            "        10.0       0.98      1.00      0.99       100\n",
            "\n",
            "    accuracy                           0.89      1000\n",
            "   macro avg       0.89      0.89      0.89      1000\n",
            "weighted avg       0.89      0.89      0.89      1000\n",
            "\n",
            "Training set score for SVM: 0.988250\n",
            "Testing  set score for SVM: 0.889000\n"
          ],
          "name": "stdout"
        },
        {
          "output_type": "execute_result",
          "data": {
            "text/plain": [
              "<bound method ClassifierMixin.score of LinearSVC(C=1.0, class_weight=None, dual=True, fit_intercept=True,\n",
              "          intercept_scaling=1, loss='squared_hinge', max_iter=1000,\n",
              "          multi_class='ovr', penalty='l2', random_state=None, tol=0.0001,\n",
              "          verbose=0)>"
            ]
          },
          "metadata": {
            "tags": []
          },
          "execution_count": 107
        }
      ]
    },
    {
      "cell_type": "markdown",
      "metadata": {
        "id": "3QEIvn9wKv4r"
      },
      "source": [
        "# Hyperparameter Tuning"
      ]
    },
    {
      "cell_type": "code",
      "metadata": {
        "id": "IiqlBq1WLM1r"
      },
      "source": [
        "#Libraries to Build Ensemble Model : Random Forest Classifier \r\n",
        "# Create the parameter grid based on the results of random search \r\n",
        "params_grid = [{'kernel': ['rbf'], 'gamma': [1e-3, 1e-4],\r\n",
        "                     'C': [1, 10, 100, 1000]},\r\n",
        "                    {'kernel': ['linear'], 'C': [1, 10, 100, 1000]}]"
      ],
      "execution_count": 100,
      "outputs": []
    },
    {
      "cell_type": "code",
      "metadata": {
        "id": "j4LI8bR6Kyfz"
      },
      "source": [
        "# Performing CV to tune parameters for best SVM fit \r\n",
        "svm_model = GridSearchCV(SVC(), params_grid, cv=5)\r\n",
        "svm_model.fit(trainingFeatures,trainingLabels)"
      ],
      "execution_count": null,
      "outputs": []
    },
    {
      "cell_type": "code",
      "metadata": {
        "colab": {
          "base_uri": "https://localhost:8080/"
        },
        "id": "ymHoe6ZyME8k",
        "outputId": "4d807015-32d9-4d44-b35e-3d159652aaa2"
      },
      "source": [
        "# View the accuracy score\r\n",
        "print('Best score for training data:', svm_model.best_score_,\"\\n\") \r\n",
        "\r\n",
        "# View the best parameters for the model found using grid search\r\n",
        "print('Best C:',svm_model.best_estimator_.C,\"\\n\") \r\n",
        "print('Best Kernel:',svm_model.best_estimator_.kernel,\"\\n\")\r\n",
        "print('Best Gamma:',svm_model.best_estimator_.gamma,\"\\n\")\r\n",
        "\r\n",
        "final_model = svm_model.best_estimator_\r\n",
        "Y_pred = final_model.predict(testingFeatures)"
      ],
      "execution_count": 103,
      "outputs": [
        {
          "output_type": "stream",
          "text": [
            "Best score for training data: 0.907 \n",
            "\n",
            "Best C: 1 \n",
            "\n",
            "Best Kernel: linear \n",
            "\n",
            "Best Gamma: scale \n",
            "\n"
          ],
          "name": "stdout"
        }
      ]
    },
    {
      "cell_type": "code",
      "metadata": {
        "colab": {
          "base_uri": "https://localhost:8080/"
        },
        "id": "6-LIJvnMMRUE",
        "outputId": "f9c6bb3f-ef42-48eb-fdfa-47d02e342e1e"
      },
      "source": [
        "# Making the Confusion Matrix\r\n",
        "#print(pd.crosstab(Y_test_label, Y_pred_label, rownames=['Actual Activity'], colnames=['Predicted Activity']))\r\n",
        "print(confusion_matrix(testingLabels,Y_pred))\r\n",
        "print(\"\\n\")\r\n",
        "print(classification_report(testingLabels,Y_pred))\r\n",
        "\r\n",
        "print(\"Training set score for SVM: %f\" % final_model.score(trainingFeatures , trainingLabels))\r\n",
        "print(\"Testing  set score for SVM: %f\" % final_model.score(testingFeatures  , testingLabels ))\r\n",
        "\r\n",
        "final_model.score"
      ],
      "execution_count": 105,
      "outputs": [
        {
          "output_type": "stream",
          "text": [
            "[[ 68  17  11   0   0   2   0   0   2   0]\n",
            " [ 14  73  13   0   0   0   0   0   0   0]\n",
            " [ 41   3  56   0   0   0   0   0   0   0]\n",
            " [  0   0   1  99   0   0   0   0   0   0]\n",
            " [  0   0   0   0 100   0   0   0   0   0]\n",
            " [  0   1   0   0   0  99   0   0   0   0]\n",
            " [  0   0   0   0   0   0 100   0   0   0]\n",
            " [  0   0   0   0   0   0   0 100   0   0]\n",
            " [  0   0   0   0   0   0   0   0 100   0]\n",
            " [  0   2   0   0   0   0   0   0   0  98]]\n",
            "\n",
            "\n",
            "              precision    recall  f1-score   support\n",
            "\n",
            "         1.0       0.55      0.68      0.61       100\n",
            "         2.0       0.76      0.73      0.74       100\n",
            "         3.0       0.69      0.56      0.62       100\n",
            "         4.0       1.00      0.99      0.99       100\n",
            "         5.0       1.00      1.00      1.00       100\n",
            "         6.0       0.98      0.99      0.99       100\n",
            "         7.0       1.00      1.00      1.00       100\n",
            "         8.0       1.00      1.00      1.00       100\n",
            "         9.0       0.98      1.00      0.99       100\n",
            "        10.0       1.00      0.98      0.99       100\n",
            "\n",
            "    accuracy                           0.89      1000\n",
            "   macro avg       0.90      0.89      0.89      1000\n",
            "weighted avg       0.90      0.89      0.89      1000\n",
            "\n",
            "Training set score for SVM: 0.989500\n",
            "Testing  set score for SVM: 0.893000\n"
          ],
          "name": "stdout"
        },
        {
          "output_type": "execute_result",
          "data": {
            "text/plain": [
              "<bound method ClassifierMixin.score of SVC(C=1, break_ties=False, cache_size=200, class_weight=None, coef0=0.0,\n",
              "    decision_function_shape='ovr', degree=3, gamma='scale', kernel='linear',\n",
              "    max_iter=-1, probability=False, random_state=None, shrinking=True,\n",
              "    tol=0.001, verbose=False)>"
            ]
          },
          "metadata": {
            "tags": []
          },
          "execution_count": 105
        }
      ]
    }
  ]
}