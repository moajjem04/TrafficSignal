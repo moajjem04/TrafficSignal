{
  "nbformat": 4,
  "nbformat_minor": 0,
  "metadata": {
    "colab": {
      "name": "TrafficSignal_HOG",
      "provenance": [],
      "authorship_tag": "ABX9TyOd+fdRmQJy17EeMjJL+qUC",
      "include_colab_link": true
    },
    "kernelspec": {
      "name": "python3",
      "display_name": "Python 3"
    }
  },
  "cells": [
    {
      "cell_type": "markdown",
      "metadata": {
        "id": "view-in-github",
        "colab_type": "text"
      },
      "source": [
        "<a href=\"https://colab.research.google.com/github/moajjem04/TrafficSignal/blob/main/TrafficSignal_HOG.ipynb\" target=\"_parent\"><img src=\"https://colab.research.google.com/assets/colab-badge.svg\" alt=\"Open In Colab\"/></a>"
      ]
    },
    {
      "cell_type": "markdown",
      "metadata": {
        "id": "ooute4Tr0v5A"
      },
      "source": [
        "# Setting up Google Drive"
      ]
    },
    {
      "cell_type": "code",
      "metadata": {
        "colab": {
          "base_uri": "https://localhost:8080/"
        },
        "id": "oUAfIyqBw7_V",
        "outputId": "6dc81b3b-ae86-4351-a74a-4d9e892b62a4"
      },
      "source": [
        "# Mount Google Drive\r\n",
        "from google.colab import drive # import drive from google colab\r\n",
        "\r\n",
        "ROOT = \"/content/drive\"     # default location for the drive\r\n",
        "print(ROOT)                 # print content of ROOT (Optional)\r\n",
        "\r\n",
        "drive.mount(ROOT)           # we mount the google drive at /content/drive"
      ],
      "execution_count": 1,
      "outputs": [
        {
          "output_type": "stream",
          "text": [
            "/content/drive\n",
            "Drive already mounted at /content/drive; to attempt to forcibly remount, call drive.mount(\"/content/drive\", force_remount=True).\n"
          ],
          "name": "stdout"
        }
      ]
    },
    {
      "cell_type": "markdown",
      "metadata": {
        "id": "BAQjzibv1GNd"
      },
      "source": [
        "### Changing Directory to the Github Folder"
      ]
    },
    {
      "cell_type": "code",
      "metadata": {
        "colab": {
          "base_uri": "https://localhost:8080/",
          "height": 35
        },
        "id": "DjNFOSmK0_7T",
        "outputId": "3ce4e28c-07fb-4005-9409-7cd256018284"
      },
      "source": [
        "%pwd"
      ],
      "execution_count": 2,
      "outputs": [
        {
          "output_type": "execute_result",
          "data": {
            "application/vnd.google.colaboratory.intrinsic+json": {
              "type": "string"
            },
            "text/plain": [
              "'/content'"
            ]
          },
          "metadata": {
            "tags": []
          },
          "execution_count": 2
        }
      ]
    },
    {
      "cell_type": "code",
      "metadata": {
        "colab": {
          "base_uri": "https://localhost:8080/"
        },
        "id": "2dBU5Sv91L78",
        "outputId": "26bde134-0169-4ac0-8168-e39040a78541"
      },
      "source": [
        "%cd drive/MyDrive/TrafficSignal_1/TrafficSignal"
      ],
      "execution_count": 3,
      "outputs": [
        {
          "output_type": "stream",
          "text": [
            "/content/drive/MyDrive/TrafficSignal_1/TrafficSignal\n"
          ],
          "name": "stdout"
        }
      ]
    },
    {
      "cell_type": "code",
      "metadata": {
        "colab": {
          "base_uri": "https://localhost:8080/",
          "height": 35
        },
        "id": "DpCSaxKu1O0D",
        "outputId": "6e6375b7-e2ba-47b8-9fcd-8e6ccc7767bc"
      },
      "source": [
        "%pwd"
      ],
      "execution_count": 4,
      "outputs": [
        {
          "output_type": "execute_result",
          "data": {
            "application/vnd.google.colaboratory.intrinsic+json": {
              "type": "string"
            },
            "text/plain": [
              "'/content/drive/MyDrive/TrafficSignal_1/TrafficSignal'"
            ]
          },
          "metadata": {
            "tags": []
          },
          "execution_count": 4
        }
      ]
    },
    {
      "cell_type": "markdown",
      "metadata": {
        "id": "n0TqC2ZI2E4b"
      },
      "source": [
        "### Visualizing Images"
      ]
    },
    {
      "cell_type": "code",
      "metadata": {
        "id": "ONjj0ZZj1Qb0"
      },
      "source": [
        "%matplotlib inline\r\n",
        "import matplotlib.pyplot as plt\r\n",
        "import seaborn as sns; sns.set()\r\n",
        "import numpy as np"
      ],
      "execution_count": 5,
      "outputs": []
    },
    {
      "cell_type": "code",
      "metadata": {
        "id": "FNN5Iv5p2Xek",
        "colab": {
          "base_uri": "https://localhost:8080/",
          "height": 340
        },
        "outputId": "e6c0bf28-dbc0-46c0-e849-a66ad735d989"
      },
      "source": [
        "import cv2 as cv\r\n",
        "from skimage import io\r\n",
        "\r\n",
        "fig, axs = plt.subplots(2, 5, figsize=(12, 6),\r\n",
        "                       subplot_kw=dict(xticks=[], yticks=[]))\r\n",
        "for i, ax in enumerate(axs.ravel()):\r\n",
        "  sFolder = \"{0:0=5d}\".format(i+1) # Format nNumFolder to folder names\r\n",
        "  path = 'training/' + sFolder + '/00000_00009.ppm'\r\n",
        "  Img= cv.imread(path)\r\n",
        "  Img = transform.resize(Img,(32,32))\r\n",
        "  ax.imshow(Img)\r\n",
        "  ax.set_title('Class: ' + str(i+1))\r\n",
        "\r\n",
        "\r\n",
        "\r\n"
      ],
      "execution_count": 66,
      "outputs": [
        {
          "output_type": "display_data",
          "data": {
            "image/png": "[encoded data removed]",
            "text/plain": [
              "<Figure size 864x432 with 10 Axes>"
            ]
          },
          "metadata": {
            "tags": []
          }
        }
      ]
    },
    {
      "cell_type": "markdown",
      "metadata": {
        "id": "we5mGG7VWV4E"
      },
      "source": [
        "### Deciding the Cell Size for feature extraction"
      ]
    },
    {
      "cell_type": "code",
      "metadata": {
        "colab": {
          "base_uri": "https://localhost:8080/",
          "height": 620
        },
        "id": "-OQWNrj7T57r",
        "outputId": "806215b8-23c5-4d31-90b2-e3e45e2cb8b4"
      },
      "source": [
        "from skimage import color, feature, transform\r\n",
        "image = cv.imread('training/00006/00000_00009.ppm')\r\n",
        "image = transform.resize(image,(32,32))\r\n",
        "plt.axes(xticks=[],yticks =[])\r\n",
        "plt.title('Stop Sign')\r\n",
        "plt.imshow(image);\r\n",
        "fig, axs = plt.subplots(2, 2, figsize=(6, 6),\r\n",
        "                       subplot_kw=dict(xticks=[], yticks=[]))\r\n",
        "cell_size = (2,4,8,16)\r\n",
        "\r\n",
        "for i, ax in enumerate(axs.ravel()):\r\n",
        "  hog_vec, hog_vis = feature.hog(image,pixels_per_cell=(cell_size[i], cell_size[i]),\r\n",
        "                                           cells_per_block=(3, 3),visualize = True)\r\n",
        "  ax.imshow(hog_vis)\r\n",
        "  ax.set_title('Cell Size: ' + str(cell_size[i]))  \r\n"
      ],
      "execution_count": 78,
      "outputs": [
        {
          "output_type": "display_data",
          "data": {
            "image/png": "[encoded data removed]",
            "text/plain": [
              "<Figure size 432x288 with 1 Axes>"
            ]
          },
          "metadata": {
            "tags": []
          }
        },
        {
          "output_type": "display_data",
          "data": {
            "image/png": "[encoded data removed]",
            "text/plain": [
              "<Figure size 432x432 with 4 Axes>"
            ]
          },
          "metadata": {
            "tags": []
          }
        }
      ]
    },
    {
      "cell_type": "markdown",
      "metadata": {
        "id": "THD9KeroGJcL"
      },
      "source": [
        "# Feature Extraction from Training Images"
      ]
    },
    {
      "cell_type": "code",
      "metadata": {
        "id": "o9Hp386q80bH",
        "colab": {
          "base_uri": "https://localhost:8080/"
        },
        "outputId": "d808a95c-b68e-4ef3-885b-807f7f367913"
      },
      "source": [
        "import glob\r\n",
        "count =0;\r\n",
        "train_image_num = 400;\r\n",
        "train_class =10;\r\n",
        "trainingFeatures = np.zeros(shape=(train_image_num*train_class,324))\r\n",
        "trainingLabels = np.zeros(shape=(train_image_num*train_class,1))\r\n",
        "for nNumFolder in range(1,11):\r\n",
        "  print(nNumFolder)\r\n",
        "  sFolder = \"{0:0=5d}\".format(nNumFolder) # Format nNumFolder to folder names\r\n",
        "  print(sFolder)\r\n",
        "  path = 'training/' + sFolder + '/*.ppm' \r\n",
        "  for file in glob.glob(path):\r\n",
        "   #print(file)\r\n",
        "   Img= cv.imread(file)\r\n",
        "   Img = transform.resize(Img,(32,32))\r\n",
        "   trainingFeatures[count,:] = feature.hog(Img,pixels_per_cell=(8, 8),\r\n",
        "                                           cells_per_block=(3, 3))\r\n",
        "   trainingLabels[count,:] = nNumFolder\r\n",
        "   count = count+1;\r\n",
        "\r\n",
        "print(trainingLabels.shape)\r\n",
        "print(trainingFeatures.shape)\r\n"
      ],
      "execution_count": 10,
      "outputs": [
        {
          "output_type": "stream",
          "text": [
            "1\n",
            "00001\n",
            "2\n",
            "00002\n",
            "3\n",
            "00003\n",
            "4\n",
            "00004\n",
            "5\n",
            "00005\n",
            "6\n",
            "00006\n",
            "7\n",
            "00007\n",
            "8\n",
            "00008\n",
            "9\n",
            "00009\n",
            "10\n",
            "00010\n",
            "(4000, 1)\n",
            "(4000, 324)\n"
          ],
          "name": "stdout"
        }
      ]
    },
    {
      "cell_type": "markdown",
      "metadata": {
        "id": "kXUN4RDnGj9S"
      },
      "source": [
        "# Feature Extraction from Testing Images"
      ]
    },
    {
      "cell_type": "code",
      "metadata": {
        "id": "E-slFdp9GPAL",
        "colab": {
          "base_uri": "https://localhost:8080/"
        },
        "outputId": "86a118ff-f4e0-4c6c-aaea-a487200bdc6f"
      },
      "source": [
        "count =0;\r\n",
        "test_image_num = 100;\r\n",
        "test_class =10;\r\n",
        "testingFeatures = np.zeros(shape=(test_image_num*test_class,324))\r\n",
        "testingLabels = np.zeros(shape=(test_image_num*test_class,1))\r\n",
        "for nNumFolder in range(1,11):\r\n",
        "  print(nNumFolder)\r\n",
        "  sFolder = \"{0:0=5d}\".format(nNumFolder) # Format nNumFolder to folder names\r\n",
        "  print(sFolder)\r\n",
        "  path = 'testing/' + sFolder + '/*.ppm' \r\n",
        "  for file in glob.glob(path):\r\n",
        "   #print(file)\r\n",
        "   Img= cv.imread(file)\r\n",
        "   Img = transform.resize(Img,(32,32))\r\n",
        "   testingFeatures[count,:] = feature.hog(Img,pixels_per_cell=(8, 8),\r\n",
        "                                           cells_per_block=(3, 3))\r\n",
        "   testingLabels[count,:] = nNumFolder\r\n",
        "   count = count+1;\r\n",
        "\r\n",
        "print(testingLabels.shape)\r\n",
        "print(testingFeatures.shape)\r\n"
      ],
      "execution_count": 11,
      "outputs": [
        {
          "output_type": "stream",
          "text": [
            "1\n",
            "00001\n",
            "2\n",
            "00002\n",
            "3\n",
            "00003\n",
            "4\n",
            "00004\n",
            "5\n",
            "00005\n",
            "6\n",
            "00006\n",
            "7\n",
            "00007\n",
            "8\n",
            "00008\n",
            "9\n",
            "00009\n",
            "10\n",
            "00010\n",
            "(1000, 1)\n",
            "(1000, 324)\n"
          ],
          "name": "stdout"
        }
      ]
    },
    {
      "cell_type": "code",
      "metadata": {
        "id": "ZgT8lcNsHxAr"
      },
      "source": [
        "from sklearn.svm import SVC, LinearSVC\r\n",
        "from sklearn.metrics import confusion_matrix,classification_report\r\n",
        "from sklearn.model_selection import cross_val_score, GridSearchCV"
      ],
      "execution_count": 12,
      "outputs": []
    },
    {
      "cell_type": "code",
      "metadata": {
        "colab": {
          "base_uri": "https://localhost:8080/"
        },
        "id": "h-lI05YLItrk",
        "outputId": "3af87c63-f138-4787-f939-9fa289f3486a"
      },
      "source": [
        "lin_clf = LinearSVC()\r\n",
        "lin_clf.fit(trainingFeatures,trainingLabels.ravel())"
      ],
      "execution_count": 21,
      "outputs": [
        {
          "output_type": "execute_result",
          "data": {
            "text/plain": [
              "LinearSVC(C=1.0, class_weight=None, dual=True, fit_intercept=True,\n",
              "          intercept_scaling=1, loss='squared_hinge', max_iter=1000,\n",
              "          multi_class='ovr', penalty='l2', random_state=None, tol=0.0001,\n",
              "          verbose=0)"
            ]
          },
          "metadata": {
            "tags": []
          },
          "execution_count": 21
        }
      ]
    },
    {
      "cell_type": "code",
      "metadata": {
        "id": "uw1AP6gcI9F7"
      },
      "source": [
        "Y_pred = lin_clf.predict(testingFeatures)"
      ],
      "execution_count": 22,
      "outputs": []
    },
    {
      "cell_type": "code",
      "metadata": {
        "colab": {
          "base_uri": "https://localhost:8080/"
        },
        "id": "bFixbxjvJPSy",
        "outputId": "bdb5a8ad-2690-493f-c37b-29816ec760be"
      },
      "source": [
        "# Making the Confusion Matrix\r\n",
        "#print(pd.crosstab(Y_test_label, Y_pred_label, rownames=['Actual Activity'], colnames=['Predicted Activity']))\r\n",
        "print(confusion_matrix(testingLabels,Y_pred))\r\n",
        "print(\"\\n\")\r\n",
        "print(classification_report(testingLabels,Y_pred))\r\n",
        "\r\n",
        "print(\"Training set score for SVM: %f\" % lin_clf.score(trainingFeatures , trainingLabels))\r\n",
        "print(\"Testing  set score for SVM: %f\" % lin_clf.score(testingFeatures  , testingLabels ))\r\n",
        "\r\n",
        "lin_clf.score"
      ],
      "execution_count": 23,
      "outputs": [
        {
          "output_type": "stream",
          "text": [
            "[[ 63  20  10   1   1   4   0   0   1   0]\n",
            " [  6  77   8   4   1   1   0   0   1   2]\n",
            " [ 41   5  52   2   0   0   0   0   0   0]\n",
            " [  0   0   3  97   0   0   0   0   0   0]\n",
            " [  0   0   0   0 100   0   0   0   0   0]\n",
            " [  0   0   0   0   0 100   0   0   0   0]\n",
            " [  0   0   0   0   0   0 100   0   0   0]\n",
            " [  0   0   0   0   0   0   0 100   0   0]\n",
            " [  0   0   0   0   0   0   0   0 100   0]\n",
            " [  0   0   0   0   0   0   0   0   0 100]]\n",
            "\n",
            "\n",
            "              precision    recall  f1-score   support\n",
            "\n",
            "         1.0       0.57      0.63      0.60       100\n",
            "         2.0       0.75      0.77      0.76       100\n",
            "         3.0       0.71      0.52      0.60       100\n",
            "         4.0       0.93      0.97      0.95       100\n",
            "         5.0       0.98      1.00      0.99       100\n",
            "         6.0       0.95      1.00      0.98       100\n",
            "         7.0       1.00      1.00      1.00       100\n",
            "         8.0       1.00      1.00      1.00       100\n",
            "         9.0       0.98      1.00      0.99       100\n",
            "        10.0       0.98      1.00      0.99       100\n",
            "\n",
            "    accuracy                           0.89      1000\n",
            "   macro avg       0.89      0.89      0.89      1000\n",
            "weighted avg       0.89      0.89      0.89      1000\n",
            "\n",
            "Training set score for SVM: 0.988250\n",
            "Testing  set score for SVM: 0.889000\n"
          ],
          "name": "stdout"
        },
        {
          "output_type": "execute_result",
          "data": {
            "text/plain": [
              "<bound method ClassifierMixin.score of LinearSVC(C=1.0, class_weight=None, dual=True, fit_intercept=True,\n",
              "          intercept_scaling=1, loss='squared_hinge', max_iter=1000,\n",
              "          multi_class='ovr', penalty='l2', random_state=None, tol=0.0001,\n",
              "          verbose=0)>"
            ]
          },
          "metadata": {
            "tags": []
          },
          "execution_count": 23
        }
      ]
    },
    {
      "cell_type": "markdown",
      "metadata": {
        "id": "3QEIvn9wKv4r"
      },
      "source": [
        "# Hyperparameter Tuning"
      ]
    },
    {
      "cell_type": "code",
      "metadata": {
        "id": "IiqlBq1WLM1r"
      },
      "source": [
        "#Libraries to Build Ensemble Model : Random Forest Classifier \r\n",
        "# Create the parameter grid based on the results of random search \r\n",
        "params_grid = [{'kernel': ['rbf'], 'gamma': [1e-3, 1e-4],\r\n",
        "                     'C': [0.1,1, 10, 100, 1000]},\r\n",
        "                    {'kernel': ['linear'], 'C': [0.1,1, 10, 100, 1000]}]"
      ],
      "execution_count": 16,
      "outputs": []
    },
    {
      "cell_type": "code",
      "metadata": {
        "id": "j4LI8bR6Kyfz",
        "colab": {
          "base_uri": "https://localhost:8080/"
        },
        "outputId": "5c2d9a4b-6111-43e5-ce9a-b8c07b8e025a"
      },
      "source": [
        "# Performing CV to tune parameters for best SVM fit \r\n",
        "svm_model = GridSearchCV(SVC(), params_grid, cv=5, verbose=1)\r\n",
        "svm_model.fit(trainingFeatures,trainingLabels.ravel())"
      ],
      "execution_count": 25,
      "outputs": [
        {
          "output_type": "stream",
          "text": [
            "Fitting 5 folds for each of 15 candidates, totalling 75 fits\n"
          ],
          "name": "stdout"
        },
        {
          "output_type": "stream",
          "text": [
            "[Parallel(n_jobs=1)]: Using backend SequentialBackend with 1 concurrent workers.\n",
            "[Parallel(n_jobs=1)]: Done  75 out of  75 | elapsed:  6.6min finished\n"
          ],
          "name": "stderr"
        },
        {
          "output_type": "execute_result",
          "data": {
            "text/plain": [
              "GridSearchCV(cv=5, error_score=nan,\n",
              "             estimator=SVC(C=1.0, break_ties=False, cache_size=200,\n",
              "                           class_weight=None, coef0=0.0,\n",
              "                           decision_function_shape='ovr', degree=3,\n",
              "                           gamma='scale', kernel='rbf', max_iter=-1,\n",
              "                           probability=False, random_state=None, shrinking=True,\n",
              "                           tol=0.001, verbose=False),\n",
              "             iid='deprecated', n_jobs=None,\n",
              "             param_grid=[{'C': [0.1, 1, 10, 100, 1000],\n",
              "                          'gamma': [0.001, 0.0001], 'kernel': ['rbf']},\n",
              "                         {'C': [0.1, 1, 10, 100, 1000], 'kernel': ['linear']}],\n",
              "             pre_dispatch='2*n_jobs', refit=True, return_train_score=False,\n",
              "             scoring=None, verbose=1)"
            ]
          },
          "metadata": {
            "tags": []
          },
          "execution_count": 25
        }
      ]
    },
    {
      "cell_type": "code",
      "metadata": {
        "colab": {
          "base_uri": "https://localhost:8080/"
        },
        "id": "ymHoe6ZyME8k",
        "outputId": "f7e52917-bd19-4f88-eedf-c9a096133c6a"
      },
      "source": [
        "# View the accuracy score\r\n",
        "print('Best score for training data:', svm_model.best_score_,\"\\n\") \r\n",
        "\r\n",
        "# View the best parameters for the model found using grid search\r\n",
        "print('Best C:',svm_model.best_estimator_.C,\"\\n\") \r\n",
        "print('Best Kernel:',svm_model.best_estimator_.kernel,\"\\n\")\r\n",
        "print('Best Gamma:',svm_model.best_estimator_.gamma,\"\\n\")\r\n",
        "\r\n",
        "final_model = svm_model.best_estimator_\r\n",
        "Y_pred = final_model.predict(testingFeatures)"
      ],
      "execution_count": 26,
      "outputs": [
        {
          "output_type": "stream",
          "text": [
            "Best score for training data: 0.907 \n",
            "\n",
            "Best C: 1 \n",
            "\n",
            "Best Kernel: linear \n",
            "\n",
            "Best Gamma: scale \n",
            "\n"
          ],
          "name": "stdout"
        }
      ]
    },
    {
      "cell_type": "code",
      "metadata": {
        "colab": {
          "base_uri": "https://localhost:8080/"
        },
        "id": "6-LIJvnMMRUE",
        "outputId": "f945ffba-c35e-4988-fafb-93f465bab951"
      },
      "source": [
        "# Making the Confusion Matrix\r\n",
        "#print(pd.crosstab(Y_test_label, Y_pred_label, rownames=['Actual Activity'], colnames=['Predicted Activity']))\r\n",
        "print(confusion_matrix(testingLabels,Y_pred))\r\n",
        "print(\"\\n\")\r\n",
        "print(classification_report(testingLabels,Y_pred))\r\n",
        "\r\n",
        "print(\"Training set score for SVM: %f\" % final_model.score(trainingFeatures , trainingLabels))\r\n",
        "print(\"Testing  set score for SVM: %f\" % final_model.score(testingFeatures  , testingLabels ))\r\n",
        "\r\n",
        "final_model.score"
      ],
      "execution_count": 27,
      "outputs": [
        {
          "output_type": "stream",
          "text": [
            "[[ 68  17  11   0   0   2   0   0   2   0]\n",
            " [ 14  73  13   0   0   0   0   0   0   0]\n",
            " [ 41   3  56   0   0   0   0   0   0   0]\n",
            " [  0   0   1  99   0   0   0   0   0   0]\n",
            " [  0   0   0   0 100   0   0   0   0   0]\n",
            " [  0   1   0   0   0  99   0   0   0   0]\n",
            " [  0   0   0   0   0   0 100   0   0   0]\n",
            " [  0   0   0   0   0   0   0 100   0   0]\n",
            " [  0   0   0   0   0   0   0   0 100   0]\n",
            " [  0   2   0   0   0   0   0   0   0  98]]\n",
            "\n",
            "\n",
            "              precision    recall  f1-score   support\n",
            "\n",
            "         1.0       0.55      0.68      0.61       100\n",
            "         2.0       0.76      0.73      0.74       100\n",
            "         3.0       0.69      0.56      0.62       100\n",
            "         4.0       1.00      0.99      0.99       100\n",
            "         5.0       1.00      1.00      1.00       100\n",
            "         6.0       0.98      0.99      0.99       100\n",
            "         7.0       1.00      1.00      1.00       100\n",
            "         8.0       1.00      1.00      1.00       100\n",
            "         9.0       0.98      1.00      0.99       100\n",
            "        10.0       1.00      0.98      0.99       100\n",
            "\n",
            "    accuracy                           0.89      1000\n",
            "   macro avg       0.90      0.89      0.89      1000\n",
            "weighted avg       0.90      0.89      0.89      1000\n",
            "\n",
            "Training set score for SVM: 0.989500\n",
            "Testing  set score for SVM: 0.893000\n"
          ],
          "name": "stdout"
        },
        {
          "output_type": "execute_result",
          "data": {
            "text/plain": [
              "<bound method ClassifierMixin.score of SVC(C=1, break_ties=False, cache_size=200, class_weight=None, coef0=0.0,\n",
              "    decision_function_shape='ovr', degree=3, gamma='scale', kernel='linear',\n",
              "    max_iter=-1, probability=False, random_state=None, shrinking=True,\n",
              "    tol=0.001, verbose=False)>"
            ]
          },
          "metadata": {
            "tags": []
          },
          "execution_count": 27
        }
      ]
    }
  ]
}