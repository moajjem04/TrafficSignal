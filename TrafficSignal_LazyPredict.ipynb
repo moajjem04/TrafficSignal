{
  "nbformat": 4,
  "nbformat_minor": 0,
  "metadata": {
    "colab": {
      "name": "TrafficSignal_LazyPredict",
      "provenance": [],
      "collapsed_sections": [],
      "authorship_tag": "ABX9TyP24NDiEYmiKbUVFo6Tn8Ex",
      "include_colab_link": true
    },
    "kernelspec": {
      "name": "python3",
      "display_name": "Python 3"
    },
    "widgets": {
      "application/vnd.jupyter.widget-state+json": {
        "19358926fcf349268815b9cab5f7d49b": {
          "model_module": "@jupyter-widgets/controls",
          "model_name": "HBoxModel",
          "state": {
            "_view_name": "HBoxView",
            "_dom_classes": [],
            "_model_name": "HBoxModel",
            "_view_module": "@jupyter-widgets/controls",
            "_model_module_version": "1.5.0",
            "_view_count": null,
            "_view_module_version": "1.5.0",
            "box_style": "",
            "layout": "IPY_MODEL_43e8768295fd4882bfbf266f94989353",
            "_model_module": "@jupyter-widgets/controls",
            "children": [
              "IPY_MODEL_7007f5649d764535b8af205d354e374f",
              "IPY_MODEL_64b29d51822f4bdcb389d9d3b10b9f77"
            ]
          }
        },
        "43e8768295fd4882bfbf266f94989353": {
          "model_module": "@jupyter-widgets/base",
          "model_name": "LayoutModel",
          "state": {
            "_view_name": "LayoutView",
            "grid_template_rows": null,
            "right": null,
            "justify_content": null,
            "_view_module": "@jupyter-widgets/base",
            "overflow": null,
            "_model_module_version": "1.2.0",
            "_view_count": null,
            "flex_flow": null,
            "width": null,
            "min_width": null,
            "border": null,
            "align_items": null,
            "bottom": null,
            "_model_module": "@jupyter-widgets/base",
            "top": null,
            "grid_column": null,
            "overflow_y": null,
            "overflow_x": null,
            "grid_auto_flow": null,
            "grid_area": null,
            "grid_template_columns": null,
            "flex": null,
            "_model_name": "LayoutModel",
            "justify_items": null,
            "grid_row": null,
            "max_height": null,
            "align_content": null,
            "visibility": null,
            "align_self": null,
            "height": null,
            "min_height": null,
            "padding": null,
            "grid_auto_rows": null,
            "grid_gap": null,
            "max_width": null,
            "order": null,
            "_view_module_version": "1.2.0",
            "grid_template_areas": null,
            "object_position": null,
            "object_fit": null,
            "grid_auto_columns": null,
            "margin": null,
            "display": null,
            "left": null
          }
        },
        "7007f5649d764535b8af205d354e374f": {
          "model_module": "@jupyter-widgets/controls",
          "model_name": "FloatProgressModel",
          "state": {
            "_view_name": "ProgressView",
            "style": "IPY_MODEL_cd4df02047144de9ac42406ad9551442",
            "_dom_classes": [],
            "description": "100%",
            "_model_name": "FloatProgressModel",
            "bar_style": "success",
            "max": 10,
            "_view_module": "@jupyter-widgets/controls",
            "_model_module_version": "1.5.0",
            "value": 10,
            "_view_count": null,
            "_view_module_version": "1.5.0",
            "orientation": "horizontal",
            "min": 0,
            "description_tooltip": null,
            "_model_module": "@jupyter-widgets/controls",
            "layout": "IPY_MODEL_c63fd117e3654f039039ebe66031308a"
          }
        },
        "64b29d51822f4bdcb389d9d3b10b9f77": {
          "model_module": "@jupyter-widgets/controls",
          "model_name": "HTMLModel",
          "state": {
            "_view_name": "HTMLView",
            "style": "IPY_MODEL_bea13d0b28fe4b6cbaf018d7d4b5582e",
            "_dom_classes": [],
            "description": "",
            "_model_name": "HTMLModel",
            "placeholder": "​",
            "_view_module": "@jupyter-widgets/controls",
            "_model_module_version": "1.5.0",
            "value": " 10/10 [00:19&lt;00:00,  2.00s/it]",
            "_view_count": null,
            "_view_module_version": "1.5.0",
            "description_tooltip": null,
            "_model_module": "@jupyter-widgets/controls",
            "layout": "IPY_MODEL_355b5dbbee8444a8bc8bb5c2ba3f889f"
          }
        },
        "cd4df02047144de9ac42406ad9551442": {
          "model_module": "@jupyter-widgets/controls",
          "model_name": "ProgressStyleModel",
          "state": {
            "_view_name": "StyleView",
            "_model_name": "ProgressStyleModel",
            "description_width": "initial",
            "_view_module": "@jupyter-widgets/base",
            "_model_module_version": "1.5.0",
            "_view_count": null,
            "_view_module_version": "1.2.0",
            "bar_color": null,
            "_model_module": "@jupyter-widgets/controls"
          }
        },
        "c63fd117e3654f039039ebe66031308a": {
          "model_module": "@jupyter-widgets/base",
          "model_name": "LayoutModel",
          "state": {
            "_view_name": "LayoutView",
            "grid_template_rows": null,
            "right": null,
            "justify_content": null,
            "_view_module": "@jupyter-widgets/base",
            "overflow": null,
            "_model_module_version": "1.2.0",
            "_view_count": null,
            "flex_flow": null,
            "width": null,
            "min_width": null,
            "border": null,
            "align_items": null,
            "bottom": null,
            "_model_module": "@jupyter-widgets/base",
            "top": null,
            "grid_column": null,
            "overflow_y": null,
            "overflow_x": null,
            "grid_auto_flow": null,
            "grid_area": null,
            "grid_template_columns": null,
            "flex": null,
            "_model_name": "LayoutModel",
            "justify_items": null,
            "grid_row": null,
            "max_height": null,
            "align_content": null,
            "visibility": null,
            "align_self": null,
            "height": null,
            "min_height": null,
            "padding": null,
            "grid_auto_rows": null,
            "grid_gap": null,
            "max_width": null,
            "order": null,
            "_view_module_version": "1.2.0",
            "grid_template_areas": null,
            "object_position": null,
            "object_fit": null,
            "grid_auto_columns": null,
            "margin": null,
            "display": null,
            "left": null
          }
        },
        "bea13d0b28fe4b6cbaf018d7d4b5582e": {
          "model_module": "@jupyter-widgets/controls",
          "model_name": "DescriptionStyleModel",
          "state": {
            "_view_name": "StyleView",
            "_model_name": "DescriptionStyleModel",
            "description_width": "",
            "_view_module": "@jupyter-widgets/base",
            "_model_module_version": "1.5.0",
            "_view_count": null,
            "_view_module_version": "1.2.0",
            "_model_module": "@jupyter-widgets/controls"
          }
        },
        "355b5dbbee8444a8bc8bb5c2ba3f889f": {
          "model_module": "@jupyter-widgets/base",
          "model_name": "LayoutModel",
          "state": {
            "_view_name": "LayoutView",
            "grid_template_rows": null,
            "right": null,
            "justify_content": null,
            "_view_module": "@jupyter-widgets/base",
            "overflow": null,
            "_model_module_version": "1.2.0",
            "_view_count": null,
            "flex_flow": null,
            "width": null,
            "min_width": null,
            "border": null,
            "align_items": null,
            "bottom": null,
            "_model_module": "@jupyter-widgets/base",
            "top": null,
            "grid_column": null,
            "overflow_y": null,
            "overflow_x": null,
            "grid_auto_flow": null,
            "grid_area": null,
            "grid_template_columns": null,
            "flex": null,
            "_model_name": "LayoutModel",
            "justify_items": null,
            "grid_row": null,
            "max_height": null,
            "align_content": null,
            "visibility": null,
            "align_self": null,
            "height": null,
            "min_height": null,
            "padding": null,
            "grid_auto_rows": null,
            "grid_gap": null,
            "max_width": null,
            "order": null,
            "_view_module_version": "1.2.0",
            "grid_template_areas": null,
            "object_position": null,
            "object_fit": null,
            "grid_auto_columns": null,
            "margin": null,
            "display": null,
            "left": null
          }
        },
        "3af1407db32146f3acfa100504e5a477": {
          "model_module": "@jupyter-widgets/controls",
          "model_name": "HBoxModel",
          "state": {
            "_view_name": "HBoxView",
            "_dom_classes": [],
            "_model_name": "HBoxModel",
            "_view_module": "@jupyter-widgets/controls",
            "_model_module_version": "1.5.0",
            "_view_count": null,
            "_view_module_version": "1.5.0",
            "box_style": "",
            "layout": "IPY_MODEL_c53f13debff147578dd3dc985f103e67",
            "_model_module": "@jupyter-widgets/controls",
            "children": [
              "IPY_MODEL_4d7c28569a034a20808b6d01e5a9feb7",
              "IPY_MODEL_3de9bfc71e0545a4a4f4d262bec8c78c"
            ]
          }
        },
        "c53f13debff147578dd3dc985f103e67": {
          "model_module": "@jupyter-widgets/base",
          "model_name": "LayoutModel",
          "state": {
            "_view_name": "LayoutView",
            "grid_template_rows": null,
            "right": null,
            "justify_content": null,
            "_view_module": "@jupyter-widgets/base",
            "overflow": null,
            "_model_module_version": "1.2.0",
            "_view_count": null,
            "flex_flow": null,
            "width": null,
            "min_width": null,
            "border": null,
            "align_items": null,
            "bottom": null,
            "_model_module": "@jupyter-widgets/base",
            "top": null,
            "grid_column": null,
            "overflow_y": null,
            "overflow_x": null,
            "grid_auto_flow": null,
            "grid_area": null,
            "grid_template_columns": null,
            "flex": null,
            "_model_name": "LayoutModel",
            "justify_items": null,
            "grid_row": null,
            "max_height": null,
            "align_content": null,
            "visibility": null,
            "align_self": null,
            "height": null,
            "min_height": null,
            "padding": null,
            "grid_auto_rows": null,
            "grid_gap": null,
            "max_width": null,
            "order": null,
            "_view_module_version": "1.2.0",
            "grid_template_areas": null,
            "object_position": null,
            "object_fit": null,
            "grid_auto_columns": null,
            "margin": null,
            "display": null,
            "left": null
          }
        },
        "4d7c28569a034a20808b6d01e5a9feb7": {
          "model_module": "@jupyter-widgets/controls",
          "model_name": "FloatProgressModel",
          "state": {
            "_view_name": "ProgressView",
            "style": "IPY_MODEL_bbea5e6dca2e4abb9fd60ecadf7bcb84",
            "_dom_classes": [],
            "description": "100%",
            "_model_name": "FloatProgressModel",
            "bar_style": "success",
            "max": 10,
            "_view_module": "@jupyter-widgets/controls",
            "_model_module_version": "1.5.0",
            "value": 10,
            "_view_count": null,
            "_view_module_version": "1.5.0",
            "orientation": "horizontal",
            "min": 0,
            "description_tooltip": null,
            "_model_module": "@jupyter-widgets/controls",
            "layout": "IPY_MODEL_834c4863c1e8401891aaddc5a2a50f0f"
          }
        },
        "3de9bfc71e0545a4a4f4d262bec8c78c": {
          "model_module": "@jupyter-widgets/controls",
          "model_name": "HTMLModel",
          "state": {
            "_view_name": "HTMLView",
            "style": "IPY_MODEL_14e2370605134b34838311628e3b8d61",
            "_dom_classes": [],
            "description": "",
            "_model_name": "HTMLModel",
            "placeholder": "​",
            "_view_module": "@jupyter-widgets/controls",
            "_model_module_version": "1.5.0",
            "value": " 10/10 [00:05&lt;00:00,  1.92it/s]",
            "_view_count": null,
            "_view_module_version": "1.5.0",
            "description_tooltip": null,
            "_model_module": "@jupyter-widgets/controls",
            "layout": "IPY_MODEL_a32ea96aefaa47c5a68a6e18a842e38f"
          }
        },
        "bbea5e6dca2e4abb9fd60ecadf7bcb84": {
          "model_module": "@jupyter-widgets/controls",
          "model_name": "ProgressStyleModel",
          "state": {
            "_view_name": "StyleView",
            "_model_name": "ProgressStyleModel",
            "description_width": "initial",
            "_view_module": "@jupyter-widgets/base",
            "_model_module_version": "1.5.0",
            "_view_count": null,
            "_view_module_version": "1.2.0",
            "bar_color": null,
            "_model_module": "@jupyter-widgets/controls"
          }
        },
        "834c4863c1e8401891aaddc5a2a50f0f": {
          "model_module": "@jupyter-widgets/base",
          "model_name": "LayoutModel",
          "state": {
            "_view_name": "LayoutView",
            "grid_template_rows": null,
            "right": null,
            "justify_content": null,
            "_view_module": "@jupyter-widgets/base",
            "overflow": null,
            "_model_module_version": "1.2.0",
            "_view_count": null,
            "flex_flow": null,
            "width": null,
            "min_width": null,
            "border": null,
            "align_items": null,
            "bottom": null,
            "_model_module": "@jupyter-widgets/base",
            "top": null,
            "grid_column": null,
            "overflow_y": null,
            "overflow_x": null,
            "grid_auto_flow": null,
            "grid_area": null,
            "grid_template_columns": null,
            "flex": null,
            "_model_name": "LayoutModel",
            "justify_items": null,
            "grid_row": null,
            "max_height": null,
            "align_content": null,
            "visibility": null,
            "align_self": null,
            "height": null,
            "min_height": null,
            "padding": null,
            "grid_auto_rows": null,
            "grid_gap": null,
            "max_width": null,
            "order": null,
            "_view_module_version": "1.2.0",
            "grid_template_areas": null,
            "object_position": null,
            "object_fit": null,
            "grid_auto_columns": null,
            "margin": null,
            "display": null,
            "left": null
          }
        },
        "14e2370605134b34838311628e3b8d61": {
          "model_module": "@jupyter-widgets/controls",
          "model_name": "DescriptionStyleModel",
          "state": {
            "_view_name": "StyleView",
            "_model_name": "DescriptionStyleModel",
            "description_width": "",
            "_view_module": "@jupyter-widgets/base",
            "_model_module_version": "1.5.0",
            "_view_count": null,
            "_view_module_version": "1.2.0",
            "_model_module": "@jupyter-widgets/controls"
          }
        },
        "a32ea96aefaa47c5a68a6e18a842e38f": {
          "model_module": "@jupyter-widgets/base",
          "model_name": "LayoutModel",
          "state": {
            "_view_name": "LayoutView",
            "grid_template_rows": null,
            "right": null,
            "justify_content": null,
            "_view_module": "@jupyter-widgets/base",
            "overflow": null,
            "_model_module_version": "1.2.0",
            "_view_count": null,
            "flex_flow": null,
            "width": null,
            "min_width": null,
            "border": null,
            "align_items": null,
            "bottom": null,
            "_model_module": "@jupyter-widgets/base",
            "top": null,
            "grid_column": null,
            "overflow_y": null,
            "overflow_x": null,
            "grid_auto_flow": null,
            "grid_area": null,
            "grid_template_columns": null,
            "flex": null,
            "_model_name": "LayoutModel",
            "justify_items": null,
            "grid_row": null,
            "max_height": null,
            "align_content": null,
            "visibility": null,
            "align_self": null,
            "height": null,
            "min_height": null,
            "padding": null,
            "grid_auto_rows": null,
            "grid_gap": null,
            "max_width": null,
            "order": null,
            "_view_module_version": "1.2.0",
            "grid_template_areas": null,
            "object_position": null,
            "object_fit": null,
            "grid_auto_columns": null,
            "margin": null,
            "display": null,
            "left": null
          }
        }
      }
    }
  },
  "cells": [
    {
      "cell_type": "markdown",
      "metadata": {
        "id": "view-in-github",
        "colab_type": "text"
      },
      "source": [
        "<a href=\"https://colab.research.google.com/github/moajjem04/TrafficSignal/blob/main/TrafficSignal_LazyPredict.ipynb\" target=\"_parent\"><img src=\"https://colab.research.google.com/assets/colab-badge.svg\" alt=\"Open In Colab\"/></a>"
      ]
    },
    {
      "cell_type": "markdown",
      "metadata": {
        "id": "ooute4Tr0v5A"
      },
      "source": [
        "# Setting up Google Drive"
      ]
    },
    {
      "cell_type": "code",
      "metadata": {
        "colab": {
          "base_uri": "https://localhost:8080/"
        },
        "id": "oUAfIyqBw7_V",
        "outputId": "75e83ee6-9693-49ce-ef1f-1de8525eac36"
      },
      "source": [
        "# Mount Google Drive\r\n",
        "from google.colab import drive # import drive from google colab\r\n",
        "\r\n",
        "ROOT = \"/content/drive\"     # default location for the drive\r\n",
        "print(ROOT)                 # print content of ROOT (Optional)\r\n",
        "\r\n",
        "drive.mount(ROOT)           # we mount the google drive at /content/drive"
      ],
      "execution_count": 1,
      "outputs": [
        {
          "output_type": "stream",
          "text": [
            "/content/drive\n",
            "Mounted at /content/drive\n"
          ],
          "name": "stdout"
        }
      ]
    },
    {
      "cell_type": "markdown",
      "metadata": {
        "id": "BAQjzibv1GNd"
      },
      "source": [
        "### Changing Directory to the Github Folder"
      ]
    },
    {
      "cell_type": "code",
      "metadata": {
        "colab": {
          "base_uri": "https://localhost:8080/",
          "height": 35
        },
        "id": "DjNFOSmK0_7T",
        "outputId": "7e22ea29-5f25-49f3-9cf0-7bf5752af4a9"
      },
      "source": [
        "%pwd"
      ],
      "execution_count": 2,
      "outputs": [
        {
          "output_type": "execute_result",
          "data": {
            "application/vnd.google.colaboratory.intrinsic+json": {
              "type": "string"
            },
            "text/plain": [
              "'/content'"
            ]
          },
          "metadata": {
            "tags": []
          },
          "execution_count": 2
        }
      ]
    },
    {
      "cell_type": "code",
      "metadata": {
        "colab": {
          "base_uri": "https://localhost:8080/"
        },
        "id": "2dBU5Sv91L78",
        "outputId": "3bcd2b96-c7bb-4667-b711-8f8e96caae1a"
      },
      "source": [
        "%cd drive/MyDrive/TrafficSignal_1/TrafficSignal"
      ],
      "execution_count": 3,
      "outputs": [
        {
          "output_type": "stream",
          "text": [
            "/content/drive/MyDrive/TrafficSignal_1/TrafficSignal\n"
          ],
          "name": "stdout"
        }
      ]
    },
    {
      "cell_type": "code",
      "metadata": {
        "colab": {
          "base_uri": "https://localhost:8080/",
          "height": 35
        },
        "id": "DpCSaxKu1O0D",
        "outputId": "4f7da6b6-3146-49e8-f4cf-b760693eb33d"
      },
      "source": [
        "%pwd"
      ],
      "execution_count": 4,
      "outputs": [
        {
          "output_type": "execute_result",
          "data": {
            "application/vnd.google.colaboratory.intrinsic+json": {
              "type": "string"
            },
            "text/plain": [
              "'/content/drive/MyDrive/TrafficSignal_1/TrafficSignal'"
            ]
          },
          "metadata": {
            "tags": []
          },
          "execution_count": 4
        }
      ]
    },
    {
      "cell_type": "markdown",
      "metadata": {
        "id": "n0TqC2ZI2E4b"
      },
      "source": [
        "### Visualizing Images"
      ]
    },
    {
      "cell_type": "code",
      "metadata": {
        "id": "ONjj0ZZj1Qb0"
      },
      "source": [
        "%matplotlib inline\r\n",
        "import matplotlib.pyplot as plt\r\n",
        "import seaborn as sns; sns.set()\r\n",
        "import numpy as np"
      ],
      "execution_count": 5,
      "outputs": []
    },
    {
      "cell_type": "code",
      "metadata": {
        "id": "FNN5Iv5p2Xek",
        "colab": {
          "base_uri": "https://localhost:8080/",
          "height": 340
        },
        "outputId": "f9fe9089-3c8d-4ea1-d91c-c56502685f19"
      },
      "source": [
        "import cv2 as cv\r\n",
        "from skimage import io\r\n",
        "from skimage import color, feature, transform\r\n",
        "\r\n",
        "fig, axs = plt.subplots(2, 5, figsize=(12, 6),\r\n",
        "                       subplot_kw=dict(xticks=[], yticks=[]))\r\n",
        "for i, ax in enumerate(axs.ravel()):\r\n",
        "  sFolder = \"{0:0=5d}\".format(i+1) # Format nNumFolder to folder names\r\n",
        "  path = 'training/' + sFolder + '/00000_00009.ppm'\r\n",
        "  Img= cv.imread(path)\r\n",
        "  Img = transform.resize(Img,(32,32))\r\n",
        "  ax.imshow(Img)\r\n",
        "  ax.set_title('Class: ' + str(i+1))\r\n",
        "\r\n",
        "\r\n",
        "\r\n"
      ],
      "execution_count": 6,
      "outputs": [
        {
          "output_type": "display_data",
          "data": {
            "image/png": "[encoded data removed]",
            "text/plain": [
              "<Figure size 864x432 with 10 Axes>"
            ]
          },
          "metadata": {
            "tags": []
          }
        }
      ]
    },
    {
      "cell_type": "markdown",
      "metadata": {
        "id": "we5mGG7VWV4E"
      },
      "source": [
        "### Deciding the Cell Size for feature extraction"
      ]
    },
    {
      "cell_type": "code",
      "metadata": {
        "colab": {
          "base_uri": "https://localhost:8080/",
          "height": 620
        },
        "id": "-OQWNrj7T57r",
        "outputId": "35f56e85-a232-46ed-a7a6-0672f9c34ef6"
      },
      "source": [
        "\r\n",
        "image = cv.imread('training/00006/00000_00009.ppm')\r\n",
        "image = transform.resize(image,(32,32))\r\n",
        "plt.axes(xticks=[],yticks =[])\r\n",
        "plt.title('Stop Sign')\r\n",
        "plt.imshow(image);\r\n",
        "fig, axs = plt.subplots(2, 2, figsize=(6, 6),\r\n",
        "                       subplot_kw=dict(xticks=[], yticks=[]))\r\n",
        "cell_size = (2,4,8,16)\r\n",
        "\r\n",
        "for i, ax in enumerate(axs.ravel()):\r\n",
        "  hog_vec, hog_vis = feature.hog(image,pixels_per_cell=(cell_size[i], cell_size[i]),\r\n",
        "                                           cells_per_block=(3, 3),visualize = True)\r\n",
        "  ax.imshow(hog_vis)\r\n",
        "  ax.set_title('Cell Size: ' + str(cell_size[i]))  \r\n"
      ],
      "execution_count": 7,
      "outputs": [
        {
          "output_type": "display_data",
          "data": {
            "image/png": "[encoded data removed]",
            "text/plain": [
              "<Figure size 432x288 with 1 Axes>"
            ]
          },
          "metadata": {
            "tags": []
          }
        },
        {
          "output_type": "display_data",
          "data": {
            "image/png": "[encoded data removed]",
            "text/plain": [
              "<Figure size 432x432 with 4 Axes>"
            ]
          },
          "metadata": {
            "tags": []
          }
        }
      ]
    },
    {
      "cell_type": "markdown",
      "metadata": {
        "id": "THD9KeroGJcL"
      },
      "source": [
        "# Feature Extraction from Training Images"
      ]
    },
    {
      "cell_type": "code",
      "metadata": {
        "id": "7tPYouQVpLKO"
      },
      "source": [
        "from tqdm.notebook import tqdm"
      ],
      "execution_count": 16,
      "outputs": []
    },
    {
      "cell_type": "code",
      "metadata": {
        "id": "o9Hp386q80bH",
        "colab": {
          "base_uri": "https://localhost:8080/",
          "height": 99,
          "referenced_widgets": [
            "19358926fcf349268815b9cab5f7d49b",
            "43e8768295fd4882bfbf266f94989353",
            "7007f5649d764535b8af205d354e374f",
            "64b29d51822f4bdcb389d9d3b10b9f77",
            "cd4df02047144de9ac42406ad9551442",
            "c63fd117e3654f039039ebe66031308a",
            "bea13d0b28fe4b6cbaf018d7d4b5582e",
            "355b5dbbee8444a8bc8bb5c2ba3f889f"
          ]
        },
        "outputId": "7500f970-4e2a-4a7b-9b51-acdc38ef87f9"
      },
      "source": [
        "import glob\r\n",
        "count =0;\r\n",
        "train_image_num = 400;\r\n",
        "train_class =10;\r\n",
        "trainingFeatures = np.zeros(shape=(train_image_num*train_class,324))\r\n",
        "trainingLabels = np.zeros(shape=(train_image_num*train_class,1))\r\n",
        "number_list = list(range(1,11))\r\n",
        "for nNumFolder in tqdm(number_list):\r\n",
        "  #print(nNumFolder)\r\n",
        "  sFolder = \"{0:0=5d}\".format(nNumFolder) # Format nNumFolder to folder names\r\n",
        "  #print(sFolder)\r\n",
        "  path = 'training/' + sFolder + '/*.ppm' \r\n",
        "  for file in glob.glob(path):\r\n",
        "   #print(file)\r\n",
        "   Img= cv.imread(file)\r\n",
        "   Img = transform.resize(Img,(32,32))\r\n",
        "   trainingFeatures[count,:] = feature.hog(Img,pixels_per_cell=(8, 8),\r\n",
        "                                           cells_per_block=(3, 3))\r\n",
        "   trainingLabels[count,:] = nNumFolder\r\n",
        "   count = count+1;\r\n",
        "\r\n",
        "print(trainingLabels.shape)\r\n",
        "print(trainingFeatures.shape)\r\n"
      ],
      "execution_count": 17,
      "outputs": [
        {
          "output_type": "display_data",
          "data": {
            "application/vnd.jupyter.widget-view+json": {
              "model_id": "19358926fcf349268815b9cab5f7d49b",
              "version_minor": 0,
              "version_major": 2
            },
            "text/plain": [
              "HBox(children=(FloatProgress(value=0.0, max=10.0), HTML(value='')))"
            ]
          },
          "metadata": {
            "tags": []
          }
        },
        {
          "output_type": "stream",
          "text": [
            "\n",
            "(4000, 1)\n",
            "(4000, 324)\n"
          ],
          "name": "stdout"
        }
      ]
    },
    {
      "cell_type": "markdown",
      "metadata": {
        "id": "kXUN4RDnGj9S"
      },
      "source": [
        "# Feature Extraction from Testing Images"
      ]
    },
    {
      "cell_type": "code",
      "metadata": {
        "id": "E-slFdp9GPAL",
        "colab": {
          "base_uri": "https://localhost:8080/",
          "height": 99,
          "referenced_widgets": [
            "3af1407db32146f3acfa100504e5a477",
            "c53f13debff147578dd3dc985f103e67",
            "4d7c28569a034a20808b6d01e5a9feb7",
            "3de9bfc71e0545a4a4f4d262bec8c78c",
            "bbea5e6dca2e4abb9fd60ecadf7bcb84",
            "834c4863c1e8401891aaddc5a2a50f0f",
            "14e2370605134b34838311628e3b8d61",
            "a32ea96aefaa47c5a68a6e18a842e38f"
          ]
        },
        "outputId": "6e37aafa-88a7-439a-8fcc-4eb16cabcf46"
      },
      "source": [
        "count =0;\r\n",
        "test_image_num = 100;\r\n",
        "test_class =10;\r\n",
        "testingFeatures = np.zeros(shape=(test_image_num*test_class,324))\r\n",
        "testingLabels = np.zeros(shape=(test_image_num*test_class,1))\r\n",
        "number_list = list(range(1,11))\r\n",
        "for nNumFolder in tqdm(number_list):\r\n",
        "  #print(nNumFolder)\r\n",
        "  sFolder = \"{0:0=5d}\".format(nNumFolder) # Format nNumFolder to folder names\r\n",
        "  #print(sFolder)\r\n",
        "  path = 'testing/' + sFolder + '/*.ppm' \r\n",
        "  for file in glob.glob(path):\r\n",
        "   #print(file)\r\n",
        "   Img= cv.imread(file)\r\n",
        "   Img = transform.resize(Img,(32,32))\r\n",
        "   testingFeatures[count,:] = feature.hog(Img,pixels_per_cell=(8, 8),\r\n",
        "                                           cells_per_block=(3, 3))\r\n",
        "   testingLabels[count,:] = nNumFolder\r\n",
        "   count = count+1;\r\n",
        "\r\n",
        "print(testingLabels.shape)\r\n",
        "print(testingFeatures.shape)\r\n"
      ],
      "execution_count": 19,
      "outputs": [
        {
          "output_type": "display_data",
          "data": {
            "application/vnd.jupyter.widget-view+json": {
              "model_id": "3af1407db32146f3acfa100504e5a477",
              "version_minor": 0,
              "version_major": 2
            },
            "text/plain": [
              "HBox(children=(FloatProgress(value=0.0, max=10.0), HTML(value='')))"
            ]
          },
          "metadata": {
            "tags": []
          }
        },
        {
          "output_type": "stream",
          "text": [
            "\n",
            "(1000, 1)\n",
            "(1000, 324)\n"
          ],
          "name": "stdout"
        }
      ]
    },
    {
      "cell_type": "markdown",
      "metadata": {
        "id": "J1xw2PD0h8DH"
      },
      "source": [
        "# Using Lazy Predict to find the best models"
      ]
    },
    {
      "cell_type": "code",
      "metadata": {
        "colab": {
          "base_uri": "https://localhost:8080/"
        },
        "id": "mbMxQjLMiB3W",
        "outputId": "3b8ac578-30c5-45ee-8b6a-af84e75dc2c0"
      },
      "source": [
        "!pip install lazypredict"
      ],
      "execution_count": 10,
      "outputs": [
        {
          "output_type": "stream",
          "text": [
            "Collecting lazypredict\n",
            "  Downloading https://files.pythonhosted.org/packages/5f/db/1566dca1050ea74e9474dca0f1e7bbffcb0c3e694cf92e7e6e7ef9fca3af/lazypredict-0.2.7-py2.py3-none-any.whl\n",
            "Requirement already satisfied: Click>=7.0 in /usr/local/lib/python3.6/dist-packages (from lazypredict) (7.1.2)\n",
            "Installing collected packages: lazypredict\n",
            "Successfully installed lazypredict-0.2.7\n"
          ],
          "name": "stdout"
        }
      ]
    },
    {
      "cell_type": "code",
      "metadata": {
        "id": "GKTK61pJiKmX"
      },
      "source": [
        "import lazypredict"
      ],
      "execution_count": 11,
      "outputs": []
    },
    {
      "cell_type": "code",
      "metadata": {
        "colab": {
          "base_uri": "https://localhost:8080/"
        },
        "id": "0H4fBtuXm8PG",
        "outputId": "53151e95-85bc-4fd2-fa7c-ac660e86c928"
      },
      "source": [
        "from lazypredict.Supervised import LazyClassifier\r\n",
        "clf = LazyClassifier(verbose=0,ignore_warnings=True, custom_metric=None)\r\n",
        "train,test = clf.fit(trainingFeatures, testingFeatures, trainingLabels.ravel(), testingLabels.ravel())"
      ],
      "execution_count": 12,
      "outputs": [
        {
          "output_type": "stream",
          "text": [
            "/usr/local/lib/python3.6/dist-packages/sklearn/utils/deprecation.py:144: FutureWarning: The sklearn.utils.testing module is  deprecated in version 0.22 and will be removed in version 0.24. The corresponding classes / functions should instead be imported from sklearn.utils. Anything that cannot be imported from sklearn.utils is now part of the private API.\n",
            "  warnings.warn(message, FutureWarning)\n",
            "100%|██████████| 30/30 [03:46<00:00,  7.54s/it]\n"
          ],
          "name": "stderr"
        }
      ]
    },
    {
      "cell_type": "code",
      "metadata": {
        "colab": {
          "base_uri": "https://localhost:8080/",
          "height": 906
        },
        "id": "bGBLJRuzn4_u",
        "outputId": "394d75fb-8268-49f2-90a5-cc16325e5118"
      },
      "source": [
        "train"
      ],
      "execution_count": 13,
      "outputs": [
        {
          "output_type": "execute_result",
          "data": {
            "text/html": [
              "<div>\n",
              "<style scoped>\n",
              "    .dataframe tbody tr th:only-of-type {\n",
              "        vertical-align: middle;\n",
              "    }\n",
              "\n",
              "    .dataframe tbody tr th {\n",
              "        vertical-align: top;\n",
              "    }\n",
              "\n",
              "    .dataframe thead th {\n",
              "        text-align: right;\n",
              "    }\n",
              "</style>\n",
              "<table border=\"1\" class=\"dataframe\">\n",
              "  <thead>\n",
              "    <tr style=\"text-align: right;\">\n",
              "      <th></th>\n",
              "      <th>Accuracy</th>\n",
              "      <th>Balanced Accuracy</th>\n",
              "      <th>ROC AUC</th>\n",
              "      <th>F1 Score</th>\n",
              "      <th>Time Taken</th>\n",
              "    </tr>\n",
              "    <tr>\n",
              "      <th>Model</th>\n",
              "      <th></th>\n",
              "      <th></th>\n",
              "      <th></th>\n",
              "      <th></th>\n",
              "      <th></th>\n",
              "    </tr>\n",
              "  </thead>\n",
              "  <tbody>\n",
              "    <tr>\n",
              "      <th>SVC</th>\n",
              "      <td>0.89</td>\n",
              "      <td>0.89</td>\n",
              "      <td>None</td>\n",
              "      <td>0.89</td>\n",
              "      <td>4.63</td>\n",
              "    </tr>\n",
              "    <tr>\n",
              "      <th>SGDClassifier</th>\n",
              "      <td>0.89</td>\n",
              "      <td>0.89</td>\n",
              "      <td>None</td>\n",
              "      <td>0.89</td>\n",
              "      <td>1.21</td>\n",
              "    </tr>\n",
              "    <tr>\n",
              "      <th>ExtraTreesClassifier</th>\n",
              "      <td>0.88</td>\n",
              "      <td>0.88</td>\n",
              "      <td>None</td>\n",
              "      <td>0.88</td>\n",
              "      <td>1.27</td>\n",
              "    </tr>\n",
              "    <tr>\n",
              "      <th>CalibratedClassifierCV</th>\n",
              "      <td>0.88</td>\n",
              "      <td>0.88</td>\n",
              "      <td>None</td>\n",
              "      <td>0.88</td>\n",
              "      <td>11.15</td>\n",
              "    </tr>\n",
              "    <tr>\n",
              "      <th>LogisticRegression</th>\n",
              "      <td>0.88</td>\n",
              "      <td>0.88</td>\n",
              "      <td>None</td>\n",
              "      <td>0.87</td>\n",
              "      <td>1.53</td>\n",
              "    </tr>\n",
              "    <tr>\n",
              "      <th>LinearDiscriminantAnalysis</th>\n",
              "      <td>0.88</td>\n",
              "      <td>0.88</td>\n",
              "      <td>None</td>\n",
              "      <td>0.88</td>\n",
              "      <td>0.46</td>\n",
              "    </tr>\n",
              "    <tr>\n",
              "      <th>RidgeClassifierCV</th>\n",
              "      <td>0.87</td>\n",
              "      <td>0.87</td>\n",
              "      <td>None</td>\n",
              "      <td>0.87</td>\n",
              "      <td>0.40</td>\n",
              "    </tr>\n",
              "    <tr>\n",
              "      <th>LGBMClassifier</th>\n",
              "      <td>0.87</td>\n",
              "      <td>0.87</td>\n",
              "      <td>None</td>\n",
              "      <td>0.87</td>\n",
              "      <td>79.11</td>\n",
              "    </tr>\n",
              "    <tr>\n",
              "      <th>RandomForestClassifier</th>\n",
              "      <td>0.87</td>\n",
              "      <td>0.87</td>\n",
              "      <td>None</td>\n",
              "      <td>0.87</td>\n",
              "      <td>5.91</td>\n",
              "    </tr>\n",
              "    <tr>\n",
              "      <th>PassiveAggressiveClassifier</th>\n",
              "      <td>0.87</td>\n",
              "      <td>0.87</td>\n",
              "      <td>None</td>\n",
              "      <td>0.87</td>\n",
              "      <td>1.07</td>\n",
              "    </tr>\n",
              "    <tr>\n",
              "      <th>NuSVC</th>\n",
              "      <td>0.87</td>\n",
              "      <td>0.87</td>\n",
              "      <td>None</td>\n",
              "      <td>0.87</td>\n",
              "      <td>13.26</td>\n",
              "    </tr>\n",
              "    <tr>\n",
              "      <th>RidgeClassifier</th>\n",
              "      <td>0.87</td>\n",
              "      <td>0.87</td>\n",
              "      <td>None</td>\n",
              "      <td>0.87</td>\n",
              "      <td>0.12</td>\n",
              "    </tr>\n",
              "    <tr>\n",
              "      <th>Perceptron</th>\n",
              "      <td>0.87</td>\n",
              "      <td>0.87</td>\n",
              "      <td>None</td>\n",
              "      <td>0.86</td>\n",
              "      <td>0.65</td>\n",
              "    </tr>\n",
              "    <tr>\n",
              "      <th>XGBClassifier</th>\n",
              "      <td>0.87</td>\n",
              "      <td>0.87</td>\n",
              "      <td>None</td>\n",
              "      <td>0.87</td>\n",
              "      <td>73.46</td>\n",
              "    </tr>\n",
              "    <tr>\n",
              "      <th>GaussianNB</th>\n",
              "      <td>0.86</td>\n",
              "      <td>0.86</td>\n",
              "      <td>None</td>\n",
              "      <td>0.86</td>\n",
              "      <td>0.10</td>\n",
              "    </tr>\n",
              "    <tr>\n",
              "      <th>LinearSVC</th>\n",
              "      <td>0.85</td>\n",
              "      <td>0.85</td>\n",
              "      <td>None</td>\n",
              "      <td>0.85</td>\n",
              "      <td>2.72</td>\n",
              "    </tr>\n",
              "    <tr>\n",
              "      <th>KNeighborsClassifier</th>\n",
              "      <td>0.83</td>\n",
              "      <td>0.83</td>\n",
              "      <td>None</td>\n",
              "      <td>0.84</td>\n",
              "      <td>3.89</td>\n",
              "    </tr>\n",
              "    <tr>\n",
              "      <th>NearestCentroid</th>\n",
              "      <td>0.83</td>\n",
              "      <td>0.83</td>\n",
              "      <td>None</td>\n",
              "      <td>0.83</td>\n",
              "      <td>0.09</td>\n",
              "    </tr>\n",
              "    <tr>\n",
              "      <th>BernoulliNB</th>\n",
              "      <td>0.82</td>\n",
              "      <td>0.83</td>\n",
              "      <td>None</td>\n",
              "      <td>0.83</td>\n",
              "      <td>0.11</td>\n",
              "    </tr>\n",
              "    <tr>\n",
              "      <th>BaggingClassifier</th>\n",
              "      <td>0.82</td>\n",
              "      <td>0.82</td>\n",
              "      <td>None</td>\n",
              "      <td>0.82</td>\n",
              "      <td>9.95</td>\n",
              "    </tr>\n",
              "    <tr>\n",
              "      <th>DecisionTreeClassifier</th>\n",
              "      <td>0.74</td>\n",
              "      <td>0.74</td>\n",
              "      <td>None</td>\n",
              "      <td>0.73</td>\n",
              "      <td>1.77</td>\n",
              "    </tr>\n",
              "    <tr>\n",
              "      <th>ExtraTreeClassifier</th>\n",
              "      <td>0.69</td>\n",
              "      <td>0.69</td>\n",
              "      <td>None</td>\n",
              "      <td>0.69</td>\n",
              "      <td>0.08</td>\n",
              "    </tr>\n",
              "    <tr>\n",
              "      <th>QuadraticDiscriminantAnalysis</th>\n",
              "      <td>0.63</td>\n",
              "      <td>0.63</td>\n",
              "      <td>None</td>\n",
              "      <td>0.63</td>\n",
              "      <td>0.65</td>\n",
              "    </tr>\n",
              "    <tr>\n",
              "      <th>AdaBoostClassifier</th>\n",
              "      <td>0.30</td>\n",
              "      <td>0.30</td>\n",
              "      <td>None</td>\n",
              "      <td>0.22</td>\n",
              "      <td>10.22</td>\n",
              "    </tr>\n",
              "    <tr>\n",
              "      <th>DummyClassifier</th>\n",
              "      <td>0.10</td>\n",
              "      <td>0.10</td>\n",
              "      <td>None</td>\n",
              "      <td>0.10</td>\n",
              "      <td>0.07</td>\n",
              "    </tr>\n",
              "    <tr>\n",
              "      <th>LabelSpreading</th>\n",
              "      <td>0.10</td>\n",
              "      <td>0.10</td>\n",
              "      <td>None</td>\n",
              "      <td>0.02</td>\n",
              "      <td>1.17</td>\n",
              "    </tr>\n",
              "    <tr>\n",
              "      <th>LabelPropagation</th>\n",
              "      <td>0.10</td>\n",
              "      <td>0.10</td>\n",
              "      <td>None</td>\n",
              "      <td>0.02</td>\n",
              "      <td>1.00</td>\n",
              "    </tr>\n",
              "    <tr>\n",
              "      <th>CheckingClassifier</th>\n",
              "      <td>0.10</td>\n",
              "      <td>0.10</td>\n",
              "      <td>None</td>\n",
              "      <td>0.02</td>\n",
              "      <td>0.07</td>\n",
              "    </tr>\n",
              "  </tbody>\n",
              "</table>\n",
              "</div>"
            ],
            "text/plain": [
              "                               Accuracy  ...  Time Taken\n",
              "Model                                    ...            \n",
              "SVC                                0.89  ...        4.63\n",
              "SGDClassifier                      0.89  ...        1.21\n",
              "ExtraTreesClassifier               0.88  ...        1.27\n",
              "CalibratedClassifierCV             0.88  ...       11.15\n",
              "LogisticRegression                 0.88  ...        1.53\n",
              "LinearDiscriminantAnalysis         0.88  ...        0.46\n",
              "RidgeClassifierCV                  0.87  ...        0.40\n",
              "LGBMClassifier                     0.87  ...       79.11\n",
              "RandomForestClassifier             0.87  ...        5.91\n",
              "PassiveAggressiveClassifier        0.87  ...        1.07\n",
              "NuSVC                              0.87  ...       13.26\n",
              "RidgeClassifier                    0.87  ...        0.12\n",
              "Perceptron                         0.87  ...        0.65\n",
              "XGBClassifier                      0.87  ...       73.46\n",
              "GaussianNB                         0.86  ...        0.10\n",
              "LinearSVC                          0.85  ...        2.72\n",
              "KNeighborsClassifier               0.83  ...        3.89\n",
              "NearestCentroid                    0.83  ...        0.09\n",
              "BernoulliNB                        0.82  ...        0.11\n",
              "BaggingClassifier                  0.82  ...        9.95\n",
              "DecisionTreeClassifier             0.74  ...        1.77\n",
              "ExtraTreeClassifier                0.69  ...        0.08\n",
              "QuadraticDiscriminantAnalysis      0.63  ...        0.65\n",
              "AdaBoostClassifier                 0.30  ...       10.22\n",
              "DummyClassifier                    0.10  ...        0.07\n",
              "LabelSpreading                     0.10  ...        1.17\n",
              "LabelPropagation                   0.10  ...        1.00\n",
              "CheckingClassifier                 0.10  ...        0.07\n",
              "\n",
              "[28 rows x 5 columns]"
            ]
          },
          "metadata": {
            "tags": []
          },
          "execution_count": 13
        }
      ]
    },
    {
      "cell_type": "code",
      "metadata": {
        "colab": {
          "base_uri": "https://localhost:8080/",
          "height": 906
        },
        "id": "HmpdVcpjn8Du",
        "outputId": "6d6cd258-5b38-4d8c-f738-78a18813df97"
      },
      "source": [
        "test"
      ],
      "execution_count": 14,
      "outputs": [
        {
          "output_type": "execute_result",
          "data": {
            "text/html": [
              "<div>\n",
              "<style scoped>\n",
              "    .dataframe tbody tr th:only-of-type {\n",
              "        vertical-align: middle;\n",
              "    }\n",
              "\n",
              "    .dataframe tbody tr th {\n",
              "        vertical-align: top;\n",
              "    }\n",
              "\n",
              "    .dataframe thead th {\n",
              "        text-align: right;\n",
              "    }\n",
              "</style>\n",
              "<table border=\"1\" class=\"dataframe\">\n",
              "  <thead>\n",
              "    <tr style=\"text-align: right;\">\n",
              "      <th></th>\n",
              "      <th>Accuracy</th>\n",
              "      <th>Balanced Accuracy</th>\n",
              "      <th>ROC AUC</th>\n",
              "      <th>F1 Score</th>\n",
              "      <th>Time Taken</th>\n",
              "    </tr>\n",
              "    <tr>\n",
              "      <th>Model</th>\n",
              "      <th></th>\n",
              "      <th></th>\n",
              "      <th></th>\n",
              "      <th></th>\n",
              "      <th></th>\n",
              "    </tr>\n",
              "  </thead>\n",
              "  <tbody>\n",
              "    <tr>\n",
              "      <th>SVC</th>\n",
              "      <td>0.89</td>\n",
              "      <td>0.89</td>\n",
              "      <td>None</td>\n",
              "      <td>0.89</td>\n",
              "      <td>4.63</td>\n",
              "    </tr>\n",
              "    <tr>\n",
              "      <th>SGDClassifier</th>\n",
              "      <td>0.89</td>\n",
              "      <td>0.89</td>\n",
              "      <td>None</td>\n",
              "      <td>0.89</td>\n",
              "      <td>1.21</td>\n",
              "    </tr>\n",
              "    <tr>\n",
              "      <th>ExtraTreesClassifier</th>\n",
              "      <td>0.88</td>\n",
              "      <td>0.88</td>\n",
              "      <td>None</td>\n",
              "      <td>0.88</td>\n",
              "      <td>1.27</td>\n",
              "    </tr>\n",
              "    <tr>\n",
              "      <th>CalibratedClassifierCV</th>\n",
              "      <td>0.88</td>\n",
              "      <td>0.88</td>\n",
              "      <td>None</td>\n",
              "      <td>0.88</td>\n",
              "      <td>11.15</td>\n",
              "    </tr>\n",
              "    <tr>\n",
              "      <th>LogisticRegression</th>\n",
              "      <td>0.88</td>\n",
              "      <td>0.88</td>\n",
              "      <td>None</td>\n",
              "      <td>0.87</td>\n",
              "      <td>1.53</td>\n",
              "    </tr>\n",
              "    <tr>\n",
              "      <th>LinearDiscriminantAnalysis</th>\n",
              "      <td>0.88</td>\n",
              "      <td>0.88</td>\n",
              "      <td>None</td>\n",
              "      <td>0.88</td>\n",
              "      <td>0.46</td>\n",
              "    </tr>\n",
              "    <tr>\n",
              "      <th>RidgeClassifierCV</th>\n",
              "      <td>0.87</td>\n",
              "      <td>0.87</td>\n",
              "      <td>None</td>\n",
              "      <td>0.87</td>\n",
              "      <td>0.40</td>\n",
              "    </tr>\n",
              "    <tr>\n",
              "      <th>LGBMClassifier</th>\n",
              "      <td>0.87</td>\n",
              "      <td>0.87</td>\n",
              "      <td>None</td>\n",
              "      <td>0.87</td>\n",
              "      <td>79.11</td>\n",
              "    </tr>\n",
              "    <tr>\n",
              "      <th>RandomForestClassifier</th>\n",
              "      <td>0.87</td>\n",
              "      <td>0.87</td>\n",
              "      <td>None</td>\n",
              "      <td>0.87</td>\n",
              "      <td>5.91</td>\n",
              "    </tr>\n",
              "    <tr>\n",
              "      <th>PassiveAggressiveClassifier</th>\n",
              "      <td>0.87</td>\n",
              "      <td>0.87</td>\n",
              "      <td>None</td>\n",
              "      <td>0.87</td>\n",
              "      <td>1.07</td>\n",
              "    </tr>\n",
              "    <tr>\n",
              "      <th>NuSVC</th>\n",
              "      <td>0.87</td>\n",
              "      <td>0.87</td>\n",
              "      <td>None</td>\n",
              "      <td>0.87</td>\n",
              "      <td>13.26</td>\n",
              "    </tr>\n",
              "    <tr>\n",
              "      <th>RidgeClassifier</th>\n",
              "      <td>0.87</td>\n",
              "      <td>0.87</td>\n",
              "      <td>None</td>\n",
              "      <td>0.87</td>\n",
              "      <td>0.12</td>\n",
              "    </tr>\n",
              "    <tr>\n",
              "      <th>Perceptron</th>\n",
              "      <td>0.87</td>\n",
              "      <td>0.87</td>\n",
              "      <td>None</td>\n",
              "      <td>0.86</td>\n",
              "      <td>0.65</td>\n",
              "    </tr>\n",
              "    <tr>\n",
              "      <th>XGBClassifier</th>\n",
              "      <td>0.87</td>\n",
              "      <td>0.87</td>\n",
              "      <td>None</td>\n",
              "      <td>0.87</td>\n",
              "      <td>73.46</td>\n",
              "    </tr>\n",
              "    <tr>\n",
              "      <th>GaussianNB</th>\n",
              "      <td>0.86</td>\n",
              "      <td>0.86</td>\n",
              "      <td>None</td>\n",
              "      <td>0.86</td>\n",
              "      <td>0.10</td>\n",
              "    </tr>\n",
              "    <tr>\n",
              "      <th>LinearSVC</th>\n",
              "      <td>0.85</td>\n",
              "      <td>0.85</td>\n",
              "      <td>None</td>\n",
              "      <td>0.85</td>\n",
              "      <td>2.72</td>\n",
              "    </tr>\n",
              "    <tr>\n",
              "      <th>KNeighborsClassifier</th>\n",
              "      <td>0.83</td>\n",
              "      <td>0.83</td>\n",
              "      <td>None</td>\n",
              "      <td>0.84</td>\n",
              "      <td>3.89</td>\n",
              "    </tr>\n",
              "    <tr>\n",
              "      <th>NearestCentroid</th>\n",
              "      <td>0.83</td>\n",
              "      <td>0.83</td>\n",
              "      <td>None</td>\n",
              "      <td>0.83</td>\n",
              "      <td>0.09</td>\n",
              "    </tr>\n",
              "    <tr>\n",
              "      <th>BernoulliNB</th>\n",
              "      <td>0.82</td>\n",
              "      <td>0.83</td>\n",
              "      <td>None</td>\n",
              "      <td>0.83</td>\n",
              "      <td>0.11</td>\n",
              "    </tr>\n",
              "    <tr>\n",
              "      <th>BaggingClassifier</th>\n",
              "      <td>0.82</td>\n",
              "      <td>0.82</td>\n",
              "      <td>None</td>\n",
              "      <td>0.82</td>\n",
              "      <td>9.95</td>\n",
              "    </tr>\n",
              "    <tr>\n",
              "      <th>DecisionTreeClassifier</th>\n",
              "      <td>0.74</td>\n",
              "      <td>0.74</td>\n",
              "      <td>None</td>\n",
              "      <td>0.73</td>\n",
              "      <td>1.77</td>\n",
              "    </tr>\n",
              "    <tr>\n",
              "      <th>ExtraTreeClassifier</th>\n",
              "      <td>0.69</td>\n",
              "      <td>0.69</td>\n",
              "      <td>None</td>\n",
              "      <td>0.69</td>\n",
              "      <td>0.08</td>\n",
              "    </tr>\n",
              "    <tr>\n",
              "      <th>QuadraticDiscriminantAnalysis</th>\n",
              "      <td>0.63</td>\n",
              "      <td>0.63</td>\n",
              "      <td>None</td>\n",
              "      <td>0.63</td>\n",
              "      <td>0.65</td>\n",
              "    </tr>\n",
              "    <tr>\n",
              "      <th>AdaBoostClassifier</th>\n",
              "      <td>0.30</td>\n",
              "      <td>0.30</td>\n",
              "      <td>None</td>\n",
              "      <td>0.22</td>\n",
              "      <td>10.22</td>\n",
              "    </tr>\n",
              "    <tr>\n",
              "      <th>DummyClassifier</th>\n",
              "      <td>0.10</td>\n",
              "      <td>0.10</td>\n",
              "      <td>None</td>\n",
              "      <td>0.10</td>\n",
              "      <td>0.07</td>\n",
              "    </tr>\n",
              "    <tr>\n",
              "      <th>LabelSpreading</th>\n",
              "      <td>0.10</td>\n",
              "      <td>0.10</td>\n",
              "      <td>None</td>\n",
              "      <td>0.02</td>\n",
              "      <td>1.17</td>\n",
              "    </tr>\n",
              "    <tr>\n",
              "      <th>LabelPropagation</th>\n",
              "      <td>0.10</td>\n",
              "      <td>0.10</td>\n",
              "      <td>None</td>\n",
              "      <td>0.02</td>\n",
              "      <td>1.00</td>\n",
              "    </tr>\n",
              "    <tr>\n",
              "      <th>CheckingClassifier</th>\n",
              "      <td>0.10</td>\n",
              "      <td>0.10</td>\n",
              "      <td>None</td>\n",
              "      <td>0.02</td>\n",
              "      <td>0.07</td>\n",
              "    </tr>\n",
              "  </tbody>\n",
              "</table>\n",
              "</div>"
            ],
            "text/plain": [
              "                               Accuracy  ...  Time Taken\n",
              "Model                                    ...            \n",
              "SVC                                0.89  ...        4.63\n",
              "SGDClassifier                      0.89  ...        1.21\n",
              "ExtraTreesClassifier               0.88  ...        1.27\n",
              "CalibratedClassifierCV             0.88  ...       11.15\n",
              "LogisticRegression                 0.88  ...        1.53\n",
              "LinearDiscriminantAnalysis         0.88  ...        0.46\n",
              "RidgeClassifierCV                  0.87  ...        0.40\n",
              "LGBMClassifier                     0.87  ...       79.11\n",
              "RandomForestClassifier             0.87  ...        5.91\n",
              "PassiveAggressiveClassifier        0.87  ...        1.07\n",
              "NuSVC                              0.87  ...       13.26\n",
              "RidgeClassifier                    0.87  ...        0.12\n",
              "Perceptron                         0.87  ...        0.65\n",
              "XGBClassifier                      0.87  ...       73.46\n",
              "GaussianNB                         0.86  ...        0.10\n",
              "LinearSVC                          0.85  ...        2.72\n",
              "KNeighborsClassifier               0.83  ...        3.89\n",
              "NearestCentroid                    0.83  ...        0.09\n",
              "BernoulliNB                        0.82  ...        0.11\n",
              "BaggingClassifier                  0.82  ...        9.95\n",
              "DecisionTreeClassifier             0.74  ...        1.77\n",
              "ExtraTreeClassifier                0.69  ...        0.08\n",
              "QuadraticDiscriminantAnalysis      0.63  ...        0.65\n",
              "AdaBoostClassifier                 0.30  ...       10.22\n",
              "DummyClassifier                    0.10  ...        0.07\n",
              "LabelSpreading                     0.10  ...        1.17\n",
              "LabelPropagation                   0.10  ...        1.00\n",
              "CheckingClassifier                 0.10  ...        0.07\n",
              "\n",
              "[28 rows x 5 columns]"
            ]
          },
          "metadata": {
            "tags": []
          },
          "execution_count": 14
        }
      ]
    }
  ]
}